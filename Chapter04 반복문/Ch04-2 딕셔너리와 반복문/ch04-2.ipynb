{
 "cells": [
  {
   "cell_type": "markdown",
   "metadata": {},
   "source": [
    "#### 04-2 딕셔너리와 반복문\n",
    "---\n",
    "#### 시작하기 전에\n",
    "**리스트**가 '인덱스를 기반으로 값을 저장하는 것'이라면 ***딕셔너리***는 '키(key)'를 기반으로 값을 저장한다."
   ]
  },
  {
   "cell_type": "code",
   "execution_count": 1,
   "metadata": {},
   "outputs": [
    {
     "name": "stdout",
     "output_type": "stream",
     "text": [
      "문자열  : <class 'str'>\n",
      "리스트  : <class 'list'>\n",
      "튜플    : <class 'tuple'>\n",
      "셋      : <class 'set'>\n",
      "딕셔너리: <class 'dict'>\n"
     ]
    }
   ],
   "source": [
    "\"012\"\n",
    "[0,1,2]\n",
    "(0,1,2)\n",
    "{0,1,2}\n",
    "{'0':0, '1':1, '2':2}\n",
    "\n",
    "print(\"문자열  :\", type(\"\"))\n",
    "print(\"리스트  :\", type([]))\n",
    "print(\"튜플    :\", type(()))\n",
    "print(\"셋      :\", type({0,}))\n",
    "print(\"딕셔너리:\", type({}))"
   ]
  },
  {
   "cell_type": "markdown",
   "metadata": {},
   "source": [
    "> 딕셔너리 선언하기"
   ]
  },
  {
   "cell_type": "code",
   "execution_count": 12,
   "metadata": {},
   "outputs": [
    {
     "name": "stdout",
     "output_type": "stream",
     "text": [
      "{'A': 10, 'B': 20, 'C': 30, 1: 40, False: 50}\n",
      "{'name': '어벤저스 엔드게임', 'type': '히어로 무비'}\n",
      "['김철수', 12, '010-1234-5678', '서울 강남구', 154]\n"
     ]
    }
   ],
   "source": [
    "{}\n",
    "# 딕셔너리 = {키:값, 키:값, 키:값, ....}\n",
    "dic = \\\n",
    "{\n",
    "    'A':10, \n",
    "    'B':20, \n",
    "    'C':30, \n",
    "     1:40, \n",
    "     False:50\n",
    "}\n",
    "print(dic)\n",
    "\n",
    "my_movie = {\n",
    "    \"name\": \"어벤저스 엔드게임\",\n",
    "    \"type\": \"히어로 무비\"\n",
    "}\n",
    "print(my_movie)\n",
    "\n",
    "# ? 딕셔너리 왜 필요한가\n",
    "\n",
    "my_info1 = [\"김철수\", 12, \"010-1234-5678\", \"서울 강남구\", 154]\n",
    "print(my_info1)\n",
    "\n",
    "my_info2 = {\n",
    "    \"name\" : \"김철수\",\n",
    "    \"age\"  : 27,\n",
    "    \"phone\": \"010-1234-5678\",\n",
    "    \"addr\" : \"서울 강남구\",\n",
    "    \"IQ\"   : 174\n",
    "}"
   ]
  },
  {
   "cell_type": "markdown",
   "metadata": {},
   "source": [
    "> 딕셔너리 요소에 접근하기"
   ]
  },
  {
   "cell_type": "code",
   "execution_count": 18,
   "metadata": {},
   "outputs": [
    {
     "name": "stdout",
     "output_type": "stream",
     "text": [
      "154\n",
      "인천\n"
     ]
    }
   ],
   "source": [
    "# 리스트 접근[인덱스]\n",
    "print(my_info1[4])\n",
    "\n",
    "# 딕셔너리[키(key)]\n",
    "my_info2['IQ']\n",
    "\n",
    "di = {'053':'대구', '02':'서울', '051':'부산', '032':'인천'}\n",
    "print(di['032'])"
   ]
  },
  {
   "cell_type": "code",
   "execution_count": 24,
   "metadata": {},
   "outputs": [
    {
     "name": "stdout",
     "output_type": "stream",
     "text": [
      "{2: ['종로', '용산', '강남', '마포', '영등포'], 51: '해운대', 53: '달성', 32: ['부평', '계양']}\n",
      "{2: ['종로', '용산', '강남', '마포', '영등포'], 51: '해운대', 53: '달서', 32: ['부평', '계양']}\n"
     ]
    }
   ],
   "source": [
    "district = {\n",
    "    2: ['종로', '용산', '강남', '마포', '영등포'],\n",
    "    51: '해운대',\n",
    "    53: '달성',\n",
    "    32: ['부평', '계양']\n",
    "}\n",
    "print(district)\n",
    "\n",
    "# 접근 방법\n",
    "district[51]\n",
    "district[2][3]\n",
    "\n",
    "# 값 변경\n",
    "district[53] = \"달서\"\n",
    "print(district)\n"
   ]
  },
  {
   "cell_type": "markdown",
   "metadata": {},
   "source": [
    "> 딕셔너리에 요소 추가/제거 하기"
   ]
  },
  {
   "cell_type": "code",
   "execution_count": 26,
   "metadata": {},
   "outputs": [
    {
     "name": "stdout",
     "output_type": "stream",
     "text": [
      "요소 추가 전: tv = {}\n",
      "요소 추가 후: tv= {'product_name': 'LG Smart TV 2022', 'serial_number': '20220107STV', 'price': 1500000}\n"
     ]
    }
   ],
   "source": [
    "# 딕셔너리[추가할 키] = 추가할 값\n",
    "\n",
    "tv = {}\n",
    "print(\"요소 추가 전: tv =\", tv)\n",
    "\n",
    "# 요소 추가\n",
    "tv[\"product_name\"]  = \"LG Smart TV 2022\"\n",
    "tv[\"serial_number\"] = \"20220107STV\"\n",
    "tv[\"price\"] = 1_500_000\n",
    "\n",
    "print(\"요소 추가 후: tv=\", tv)"
   ]
  },
  {
   "cell_type": "code",
   "execution_count": 30,
   "metadata": {},
   "outputs": [
    {
     "name": "stdout",
     "output_type": "stream",
     "text": [
      "'gc'에 대한 검색 결과가 없습니다.\n",
      "[keyword]추가: {'interpreter': '프로그래밍 소스 코드를 곧바로 실행해 주는 프로그램\\n', 'variable': '값을 저장할 때 사용하는 식별자\\n', 'function': '어떤 동작 또는 기능을 하도록 기술하는 코드\\n', 'keyword': '언어 내에서 문법적인 용도로 사용되고 있는 단어'}\n"
     ]
    }
   ],
   "source": [
    "dictionary = {\n",
    "    \"interpreter\": \"프로그래밍 소스 코드를 곧바로 실행해 주는 프로그램\",\n",
    "    \"variable\": \"값을 저장할 때 사용하는 식별자\",\n",
    "    \"function\": \"어떤 동작 또는 기능을 하도록 기술하는 코드\",\n",
    "}\n",
    "\n",
    "search_word = input(\"IT 검색: \")\n",
    "\n",
    "#                [interpreter, variable, function]\n",
    "if search_word in dictionary.keys():\n",
    "    print(search_word + \":\", dictionary[search_word])\n",
    "else:\n",
    "    print(f\"'{search_word}'에 대한 검색 결과가 없습니다.\")\n",
    "\n",
    "# IT 용어 추가\n",
    "dictionary[\"keyword\"] = \"언어 내에서 문법적인 용도로 사용되고 있는 단어\"\n",
    "print(\"[keyword]추가:\", dictionary)\n"
   ]
  },
  {
   "cell_type": "code",
   "execution_count": 33,
   "metadata": {},
   "outputs": [
    {
     "name": "stdout",
     "output_type": "stream",
     "text": [
      "요소 제거 이전:\n",
      "songs = {'아이유': ['에잇', '너의 의미', '밤편지', 'Love poem'], '이문세': ['소녀', '옛사랑', '광화문 연가', '소녀'], '블랙핑크': ['마지막처럼', '불장난', 'SO HOT'], 'BTS': ['Dynamite', '전하지 못한 진심', 'My Universe']}\n",
      "요소 제거 이후:\n",
      "songs = {'아이유': ['에잇', '너의 의미', '밤편지', 'Love poem'], '블랙핑크': ['마지막처럼', '불장난', 'SO HOT'], 'BTS': ['Dynamite', '전하지 못한 진심', 'My Universe']}\n",
      "{'아이유': ['에잇', '너의 의미', '밤편지', 'Love poem'], '블랙핑크': ['마지막처럼', '불장난'], 'BTS': ['Dynamite', '전하지 못한 진심', 'My Universe']}\n"
     ]
    }
   ],
   "source": [
    "# 딕셔너리에 요소 제거하기\n",
    "# del 딕셔너리[삭제할 키]\n",
    "\n",
    "songs = {\n",
    "    \"아이유\": [\"에잇\", \"너의 의미\", \"밤편지\", \"Love poem\"],\n",
    "    \"이문세\": [\"소녀\", \"옛사랑\", \"광화문 연가\", \"소녀\"],\n",
    "    \"블랙핑크\": [\"마지막처럼\", \"불장난\", \"SO HOT\"],\n",
    "    \"BTS\": [\"Dynamite\", \"전하지 못한 진심\", \"My Universe\"]\n",
    "}\n",
    "print(\"요소 제거 이전:\\nsongs =\", songs)\n",
    "\n",
    "# 요소를 제거\n",
    "del songs[\"이문세\"]\n",
    "\n",
    "print(\"요소 제거 이후:\\nsongs =\", songs)\n",
    "\n",
    "# 'SO HOT' 제거\n",
    "del songs[\"블랙핑크\"][2]\n",
    "\n",
    "print(songs)"
   ]
  },
  {
   "cell_type": "markdown",
   "metadata": {},
   "source": [
    "> KeyError 예외"
   ]
  },
  {
   "cell_type": "code",
   "execution_count": 37,
   "metadata": {},
   "outputs": [
    {
     "name": "stdout",
     "output_type": "stream",
     "text": [
      "None\n"
     ]
    },
    {
     "ename": "KeyError",
     "evalue": "'C+'",
     "output_type": "error",
     "traceback": [
      "\u001b[1;31m---------------------------------------------------------------------------\u001b[0m",
      "\u001b[1;31mKeyError\u001b[0m                                  Traceback (most recent call last)",
      "\u001b[1;32m~\\AppData\\Local\\Temp/ipykernel_14116/199189987.py\u001b[0m in \u001b[0;36m<module>\u001b[1;34m\u001b[0m\n\u001b[0;32m      4\u001b[0m \u001b[0mdi\u001b[0m \u001b[1;33m=\u001b[0m \u001b[1;33m{\u001b[0m\u001b[1;34m\"A+\"\u001b[0m\u001b[1;33m:\u001b[0m\u001b[1;36m95\u001b[0m\u001b[1;33m,\u001b[0m \u001b[1;34m\"A\"\u001b[0m\u001b[1;33m:\u001b[0m\u001b[1;36m90\u001b[0m\u001b[1;33m,\u001b[0m \u001b[1;34m\"B+\"\u001b[0m\u001b[1;33m:\u001b[0m\u001b[1;36m85\u001b[0m\u001b[1;33m,\u001b[0m \u001b[1;34m\"B\"\u001b[0m\u001b[1;33m:\u001b[0m\u001b[1;36m80\u001b[0m\u001b[1;33m,\u001b[0m \u001b[1;34m\"D\"\u001b[0m\u001b[1;33m:\u001b[0m\u001b[1;32mNone\u001b[0m\u001b[1;33m}\u001b[0m\u001b[1;33m\u001b[0m\u001b[1;33m\u001b[0m\u001b[0m\n\u001b[0;32m      5\u001b[0m \u001b[0mprint\u001b[0m\u001b[1;33m(\u001b[0m\u001b[0mdi\u001b[0m\u001b[1;33m[\u001b[0m\u001b[1;34m\"D\"\u001b[0m\u001b[1;33m]\u001b[0m\u001b[1;33m)\u001b[0m\u001b[1;33m\u001b[0m\u001b[1;33m\u001b[0m\u001b[0m\n\u001b[1;32m----> 6\u001b[1;33m \u001b[0mdi\u001b[0m\u001b[1;33m[\u001b[0m\u001b[1;34m\"C+\"\u001b[0m\u001b[1;33m]\u001b[0m\u001b[1;33m\u001b[0m\u001b[1;33m\u001b[0m\u001b[0m\n\u001b[0m",
      "\u001b[1;31mKeyError\u001b[0m: 'C+'"
     ]
    }
   ],
   "source": [
    "li = [1, 2, 3]\n",
    "# li[3] # IndexError: list index out of range\n",
    "\n",
    "di = {\"A+\":95, \"A\":90, \"B+\":85, \"B\":80, \"D\":None}\n",
    "print(di[\"D\"])\n",
    "\n",
    "di[\"C+\"] # KeyError: 'C+'"
   ]
  },
  {
   "cell_type": "markdown",
   "metadata": {},
   "source": [
    "> 딕셔너리 내부에 키(key)가 있는지 확인하기"
   ]
  },
  {
   "cell_type": "code",
   "execution_count": 45,
   "metadata": {},
   "outputs": [
    {
     "name": "stdout",
     "output_type": "stream",
     "text": [
      "{'A+': 95, 'A': 90, 'B+': 85, 'B': 80, 'D': 60}\n",
      "해당 등급이 없습니다.\n",
      "{'A+': 95, 'A': 90, 'B+': 85, 'B': 80, 'D': 60, 'c': 70}\n",
      "학점이 정상적으로 등록되었습니다.\n"
     ]
    }
   ],
   "source": [
    "# 키가 존재하는지 확인하고 값에 접근한다.\n",
    "\n",
    "di = {\"A+\":95, \"A\":90, \"B+\":85, \"B\":80, \"D\":60}\n",
    "print(di)\n",
    "\n",
    "key = input(\"등급을 입력하세요: \")\n",
    "\n",
    "# key가 있는지\n",
    "if key in di:\n",
    "    print(\"{}학점은 {}점 이상입니다.\".format(key, di[key]))\n",
    "\n",
    "# key가 없는지\n",
    "else:\n",
    "    print(\"해당 등급이 없습니다.\")\n",
    "    res = input(\"등록해 드릴까요(y/n)?: \")\n",
    "    if res == 'y':\n",
    "        value = int(input(\"등급에 해당하는 점수를 입력하세요: \"))\n",
    "        di[key] = value\n",
    "        print(di)\n",
    "        print(\"학점이 정상적으로 등록되었습니다.\")"
   ]
  },
  {
   "cell_type": "markdown",
   "metadata": {},
   "source": [
    "> 키의 존재와 관련된 get()  함수"
   ]
  },
  {
   "cell_type": "code",
   "execution_count": 44,
   "metadata": {},
   "outputs": [
    {
     "name": "stdout",
     "output_type": "stream",
     "text": [
      "None\n"
     ]
    }
   ],
   "source": [
    "# get() 함수는 딕셔너리 키로 값을 추출, 존재하지 않는 키에 접근할 경우?\n",
    "# 'KeyError'를 발생시키지 않고 'None'을 반환\n",
    "\n",
    "di = {'A+': 95, 'A': 90, 'B+': 85, 'B': 80, 'D': 60} \n",
    "\n",
    "di.get(\"A+\")\n",
    "di[\"A+\"]\n",
    "\n",
    "# di[\"C+\"]\n",
    "print(di.get(\"C+\"))\n",
    "\n",
    "if \"C+\" not in di:\n",
    "    print(\"C+ does not exist\")\n",
    "\n",
    "if di.get(\"C+\") == None:\n",
    "    print(\"C+ does not exist\")"
   ]
  },
  {
   "cell_type": "markdown",
   "metadata": {},
   "source": [
    "> for 반복문 : 딕셔너리와 함께 사용하기"
   ]
  },
  {
   "cell_type": "code",
   "execution_count": 49,
   "metadata": {},
   "outputs": [
    {
     "name": "stdout",
     "output_type": "stream",
     "text": [
      "A+ 등급은 95점 이상\n",
      "A  등급은 90점 이상\n",
      "B+ 등급은 85점 이상\n",
      "B  등급은 80점 이상\n",
      "D  등급은 60점 이상\n"
     ]
    }
   ],
   "source": [
    "# for i in \"반복객체\":\n",
    "\n",
    "di = {'A+': 95, 'A': 90, 'B+': 85, 'B': 80, 'D': 60} \n",
    "#[A+, A, B+, B, D,]\n",
    "for grade in di:\n",
    "    print(\"{:3s}등급은 {}점 이상\".format(grade, di[grade]))"
   ]
  }
 ],
 "metadata": {
  "interpreter": {
   "hash": "054c0b5073ae8ed56926c5c67113945079b283bacf1a269ae7086b3d9eebd60c"
  },
  "kernelspec": {
   "display_name": "Python 3.10.1 64-bit",
   "language": "python",
   "name": "python3"
  },
  "language_info": {
   "codemirror_mode": {
    "name": "ipython",
    "version": 3
   },
   "file_extension": ".py",
   "mimetype": "text/x-python",
   "name": "python",
   "nbconvert_exporter": "python",
   "pygments_lexer": "ipython3",
   "version": "3.10.1"
  },
  "orig_nbformat": 4
 },
 "nbformat": 4,
 "nbformat_minor": 2
}
