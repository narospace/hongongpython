{
 "cells": [
  {
   "cell_type": "markdown",
   "metadata": {},
   "source": [
    "### 04-1 리스트와 반복문\n",
    "---\n",
    "#### 시작하기 전에\n",
    "**리스트**란 '목록'이며 여러가지 자료를 저장할 수 있는 자료이다. 숫자, 문자열 등의 자료를 모아서 사용하는 자료"
   ]
  },
  {
   "cell_type": "code",
   "execution_count": 4,
   "metadata": {},
   "outputs": [
    {
     "data": {
      "text/plain": [
       "[273, 32, 0, '문자열', True, False]"
      ]
     },
     "execution_count": 4,
     "metadata": {},
     "output_type": "execute_result"
    }
   ],
   "source": [
    "# 리스트이름 = [요소1, 요소2, 요소3, .....]\n",
    "li = [273, 32, 0, \"문자열\", True, False]\n",
    "li[-1]\n",
    "li"
   ]
  },
  {
   "cell_type": "markdown",
   "metadata": {},
   "source": [
    "> 리스트 선언하고 요소(element)에 접근하기 : 리스트 인덱싱(indexing)과 슬라이싱(slicing)"
   ]
  },
  {
   "cell_type": "code",
   "execution_count": 10,
   "metadata": {},
   "outputs": [
    {
     "data": {
      "text/plain": [
       "'c'"
      ]
     },
     "execution_count": 10,
     "metadata": {},
     "output_type": "execute_result"
    }
   ],
   "source": [
    "il = [1, 2, 3, 4, 5]\n",
    "sl = [\"안\", \"녕\", \"하\", \"세\", \"요\"]\n",
    "tl = [273, 32, 103, \"문자열\", [True, False, ['a', [1, 2], 'c']], \"Hello\"]\n",
    "bl = [True, False] # bl[0]\n",
    "\n",
    "sl[2]\n",
    "tl[4][1]     # 배열의 배열(2차원 배열)\n",
    "tl[4][2][2]  # 배열의 배열의 배열(3차원 배열)\n",
    "\n",
    "# 대한민국 = [[[신사동, [[[100, 101],2,3], 한국, 삼성, 현대]], 도동구, 종로구], 인천, 대구, 부산]\n",
    "# 대한민국[0][0][0][0][0] -> 집 주소까지...."
   ]
  },
  {
   "cell_type": "code",
   "execution_count": 15,
   "metadata": {},
   "outputs": [
    {
     "data": {
      "text/plain": [
       "['변경', 32, 0, '문자열', True, False]"
      ]
     },
     "execution_count": 15,
     "metadata": {},
     "output_type": "execute_result"
    }
   ],
   "source": [
    "str_data = \"Life is too short, You need Python\"\n",
    "str_data[-6]  # P\n",
    "str_data[0:3+1]\n",
    "\n",
    "li = [273, 32, 0, \"문자열\", True, False]\n",
    "\n",
    "# 슬라이싱\n",
    "li[:3] # 시작 <=  범위 < 끝\n",
    "\n",
    "# 리스트의 특정 요소 변경\n",
    "li[0] = \"변경\" \n",
    "li"
   ]
  },
  {
   "cell_type": "markdown",
   "metadata": {},
   "source": [
    "> 리스트에서의 IndexError(예외)"
   ]
  },
  {
   "cell_type": "code",
   "execution_count": 17,
   "metadata": {},
   "outputs": [
    {
     "ename": "IndexError",
     "evalue": "list index out of range",
     "output_type": "error",
     "traceback": [
      "\u001b[1;31m---------------------------------------------------------------------------\u001b[0m",
      "\u001b[1;31mIndexError\u001b[0m                                Traceback (most recent call last)",
      "\u001b[1;32m~\\AppData\\Local\\Temp/ipykernel_7740/1601695838.py\u001b[0m in \u001b[0;36m<module>\u001b[1;34m\u001b[0m\n\u001b[0;32m      1\u001b[0m \u001b[0ma\u001b[0m \u001b[1;33m=\u001b[0m \u001b[1;33m[\u001b[0m\u001b[1;36m273\u001b[0m\u001b[1;33m,\u001b[0m \u001b[1;36m32\u001b[0m\u001b[1;33m,\u001b[0m \u001b[1;36m103\u001b[0m\u001b[1;33m]\u001b[0m\u001b[1;33m\u001b[0m\u001b[1;33m\u001b[0m\u001b[0m\n\u001b[0;32m      2\u001b[0m \u001b[0ma\u001b[0m\u001b[1;33m[\u001b[0m\u001b[1;36m0\u001b[0m\u001b[1;33m]\u001b[0m\u001b[1;33m\u001b[0m\u001b[1;33m\u001b[0m\u001b[0m\n\u001b[1;32m----> 3\u001b[1;33m \u001b[0ma\u001b[0m\u001b[1;33m[\u001b[0m\u001b[1;36m3\u001b[0m\u001b[1;33m]\u001b[0m\u001b[1;33m\u001b[0m\u001b[1;33m\u001b[0m\u001b[0m\n\u001b[0m",
      "\u001b[1;31mIndexError\u001b[0m: list index out of range"
     ]
    }
   ],
   "source": [
    "a = [273, 32, 103]\n",
    "a[0]\n",
    "a[3]"
   ]
  },
  {
   "cell_type": "markdown",
   "metadata": {},
   "source": [
    "> 리스트 연산자 : + , *, len()"
   ]
  },
  {
   "cell_type": "code",
   "execution_count": 22,
   "metadata": {},
   "outputs": [
    {
     "name": "stdout",
     "output_type": "stream",
     "text": [
      "[1, 2, 3, 4, 5, 6]\n",
      "[1, 2, 3, 1, 2, 3, 1, 2, 3]\n",
      "9\n"
     ]
    }
   ],
   "source": [
    "a = [1, 2, 3]\n",
    "b = [4, 5, 6]\n",
    "c = a + b\n",
    "print(c)\n",
    "\n",
    "d = a * 3\n",
    "print(d)\n",
    "\n",
    "print(len(d))\n"
   ]
  },
  {
   "cell_type": "markdown",
   "metadata": {},
   "source": [
    "> 리스트에 요소 추가하기 : append, insert"
   ]
  },
  {
   "cell_type": "code",
   "execution_count": 30,
   "metadata": {},
   "outputs": [
    {
     "name": "stdout",
     "output_type": "stream",
     "text": [
      "[1, 2, 3, 4, 5]\n",
      "[1, 2, 3, 4, 5, 6, 7, 8, 9, 10, 11, 12, 13, 14, 15, 16, 17, 18, 19, 20, 21, 22, 23, 24, 25, 26, 27, 28, 29, 30]\n",
      "[1, 2, 3, 4, 5, 'a', 6, 7, 8, 9, 10, 11, 12, 13, 14, 15, 16, 17, 18, 19, 20, 21, 22, 23, 24, 25, 26, 27, 28, 29, 30]\n",
      "['a', 'b', 'c', 'e', 'f', 'g']\n",
      "['a', 'b', 'c', 'e', 'f', 'g', 'h', 'i']\n"
     ]
    }
   ],
   "source": [
    "# 리스트.append(요소) : 리스트 맨 뒤에 요소가 추가\n",
    "# 리스트.insert(위치, 요소) : 리스트의 지정위치에 요소를 추가\n",
    "\n",
    "data = [1, 2, 3]\n",
    "data.append(4)\n",
    "data.append(5)\n",
    "print(data)\n",
    "\n",
    "data = []\n",
    "#  0~29\n",
    "for i in range(30):\n",
    "    data.append(i + 1)\n",
    "print(data)\n",
    "\n",
    "data.insert(5, 'a')\n",
    "print(data)\n",
    "data[5]\n",
    "\n",
    "# 리스트.extend(리스트) : 해당 리스트를 확장\n",
    "li_a = ['a', 'b', 'c']\n",
    "li_b = ['e', 'f', 'g']\n",
    "li_c = li_a + li_b\n",
    "print(li_c)\n",
    "\n",
    "li_c.extend(['h', 'i'])\n",
    "print(li_c)"
   ]
  },
  {
   "cell_type": "code",
   "execution_count": 1,
   "metadata": {},
   "outputs": [
    {
     "data": {
      "text/plain": [
       "[1, 2, 3, ['a', 'b'], [True, False], True, False]"
      ]
     },
     "execution_count": 1,
     "metadata": {},
     "output_type": "execute_result"
    }
   ],
   "source": [
    "# .append()와 .extend() 차이\n",
    "x = [1, 2]\n",
    "y = ['a', 'b']\n",
    "z = [True, False]\n",
    "\n",
    "x.append(3)\n",
    "x\n",
    "x.append(y)\n",
    "x\n",
    "x.append(z)\n",
    "x\n",
    "x.extend(z)\n",
    "x"
   ]
  },
  {
   "cell_type": "code",
   "execution_count": 4,
   "metadata": {},
   "outputs": [
    {
     "name": "stdout",
     "output_type": "stream",
     "text": [
      "[[1, 2], [11, 12], [21, 22], [100, 200]]\n",
      "[[1, 2], [11, 12], [21, 22], [100, 200], [100, 200]]\n",
      "[[1, 2], [11, 12], [21, 22], [100, 200], [100, 200], 300, 400]\n"
     ]
    }
   ],
   "source": [
    "matrix = [\n",
    "    [1, 2], \n",
    "    [11, 12], \n",
    "    [21, 22],\n",
    "    [100, 200]\n",
    "    ]\n",
    "\n",
    "print(matrix)\n",
    "\n",
    "matrix_a = [1, 2]\n",
    "matrix_b = [11, 12]\n",
    "\n",
    "matrix.append(matrix_a)\n",
    "print(matrix)\n",
    "\n",
    "matrix.extend(matrix_b)\n",
    "print(matrix)\n"
   ]
  },
  {
   "cell_type": "markdown",
   "metadata": {},
   "source": [
    "> 리스트에 요소 제거하기 : 인덱스로 제거, 값으로 제거"
   ]
  },
  {
   "cell_type": "code",
   "execution_count": 37,
   "metadata": {},
   "outputs": [
    {
     "name": "stdout",
     "output_type": "stream",
     "text": [
      "['a', 'c', 'd', 'e', 'f']\n",
      "['d', 'e', 'f']\n",
      "삭제요소: f\n",
      "['d', 'e']\n",
      "삭제요소: e\n",
      "['d']\n"
     ]
    }
   ],
   "source": [
    "# 인덱스 사용\n",
    "li = ['a', 'b', 'c', 'd', 'e', 'f']\n",
    "\n",
    "# 1. del \n",
    "# del li\n",
    "# li\n",
    "del li[1]\n",
    "print(li)\n",
    "\n",
    "del li[:2]\n",
    "print(li)\n",
    "\n",
    "# 2. 리스트.pop(인덱스)\n",
    "print(\"삭제요소:\", li.pop(2))\n",
    "print(li)\n",
    "print(\"삭제요소:\", li.pop()) \n",
    "print(li)\n"
   ]
  },
  {
   "cell_type": "code",
   "execution_count": 40,
   "metadata": {},
   "outputs": [
    {
     "name": "stdout",
     "output_type": "stream",
     "text": [
      "[1, 2, 1, 2]\n",
      "[1, 1, 2]\n",
      "[1, 1]\n"
     ]
    }
   ],
   "source": [
    "# 값으로 제거\n",
    "\n",
    "# 리스트.remove(값)\n",
    "li = [1, 2, 1, 2]\n",
    "print(li)\n",
    "\n",
    "li.remove(2) # 리스트 내부에 해당하는 값이 여러개 있어도 가장 먼저 발견되는 하나만 제거\n",
    "print(li) \n",
    "li.remove(2)\n",
    "print(li) "
   ]
  },
  {
   "cell_type": "code",
   "execution_count": 43,
   "metadata": {},
   "outputs": [
    {
     "name": "stdout",
     "output_type": "stream",
     "text": [
      "[0, 1, 2, 3, 4, 5]\n",
      "[1, 2, 3, 4, 5]\n",
      "[]\n"
     ]
    }
   ],
   "source": [
    "# 모두 제거 : clear()\n",
    "\n",
    "li = [0, 1, 2, 3, 4, 5]\n",
    "print(li)\n",
    "\n",
    "li.remove(0)\n",
    "print(li)\n",
    "\n",
    "li.clear()\n",
    "print(li) # 다 비우기"
   ]
  },
  {
   "cell_type": "markdown",
   "metadata": {},
   "source": [
    "> 리스트 내부에 있는지 없는지 확인하기 : in / not in 연산자"
   ]
  },
  {
   "cell_type": "code",
   "execution_count": 50,
   "metadata": {},
   "outputs": [
    {
     "name": "stdout",
     "output_type": "stream",
     "text": [
      "True\n",
      "False\n",
      "True\n",
      "[273, 32, 103, 57]\n"
     ]
    }
   ],
   "source": [
    "print('c' in \"abcdefg\")\n",
    "\n",
    "list_n = [273, 32, 103, 57]\n",
    "\n",
    "print(0 in list_n)\n",
    "\n",
    "print(99 not in list_n)\n",
    "\n",
    "val = 99\n",
    "if val not in list_n:\n",
    "    list_n.append(val)\n",
    "\n",
    "print(list_n)"
   ]
  },
  {
   "cell_type": "markdown",
   "metadata": {},
   "source": [
    "> for 반복문(looping)"
   ]
  },
  {
   "cell_type": "code",
   "execution_count": 5,
   "metadata": {},
   "outputs": [
    {
     "name": "stdout",
     "output_type": "stream",
     "text": [
      "0 Hello World\n",
      "1 Hello World\n",
      "2 Hello World\n",
      "3 Hello World\n",
      "4 Hello World\n",
      "5 Hello World\n",
      "6 Hello World\n",
      "7 Hello World\n",
      "8 Hello World\n",
      "9 Hello World\n"
     ]
    }
   ],
   "source": [
    "# for(int i = 0; i < 10; i++){\n",
    "#     System.out.println(i + \" for\");\n",
    "# }\n",
    "\n",
    "for i in range(10):\n",
    "    print(i, \"Hello World\")"
   ]
  },
  {
   "cell_type": "code",
   "execution_count": 12,
   "metadata": {},
   "outputs": [
    {
     "name": "stdout",
     "output_type": "stream",
     "text": [
      "90 85 70 55 95 60 75 \n",
      "L, i, f, e,  , i, s,  , t, o, o,  , s, h, o, r, t, ,,  , Y, o, u,  , n, e, e, d,  , P, y, t, h, o, n, ., \n",
      "자연수(1~10)총합:  55\n"
     ]
    }
   ],
   "source": [
    "# for 반복자 in 반복할 수 있는 객체:\n",
    "#           실행코드\n",
    "\n",
    "records = [90, 85, 70, 55, 95, 60, 75]\n",
    "\n",
    "for score in [90, 85, 70, 55, 95, 60, 75]:\n",
    "    print(score, end=' ')\n",
    "\n",
    "print()\n",
    "\n",
    "for s in \"Life is too short, You need Python.\":\n",
    "    print(s, end=', ')\n",
    "\n",
    "# 1 ~ 10 까지의 자연수 총합 구하기\n",
    "natural_numbers = [1, 2, 3, 4, 5, 6, 7, 8, 9, 10]\n",
    "total = 0\n",
    "for num in natural_numbers:\n",
    "    total += num\n",
    "\n",
    "print()\n",
    "print(\"자연수(1~10)총합: \", total)"
   ]
  },
  {
   "cell_type": "markdown",
   "metadata": {},
   "source": [
    "> 아래의 성적 레코드의 최고, 최저, 총점, 평균을 구하는 프로그램 작성(단, 내장함수 사용금지!!!) : record.py"
   ]
  },
  {
   "cell_type": "code",
   "execution_count": 13,
   "metadata": {},
   "outputs": [
    {
     "data": {
      "text/plain": [
       "21"
      ]
     },
     "execution_count": 13,
     "metadata": {},
     "output_type": "execute_result"
    }
   ],
   "source": [
    "records = [90, 85, 70, 55, 95, 60, 80, 90, 85, 70, 55, 95, 60, 80, 90, 85, 70, 55, 95, 60, 80]\n",
    "len(records)\n",
    "\n",
    "print(\"최고점:\")\n",
    "print(\"최저점:\")\n",
    "print(\"총  점:\")\n",
    "print(\"평  균:\")"
   ]
  },
  {
   "cell_type": "code",
   "execution_count": null,
   "metadata": {},
   "outputs": [],
   "source": [
    "records = [90, 85, 70, 55, 95, 60, 80, 90, 85, 70, 55, 95, 60, 80, 90, 85, 70, 55, 95, 60, 80]\n",
    "total = 0\n",
    "for score in records:\n",
    "    total += score\n",
    "\n",
    "max_result = 0\n",
    "min_result = 0\n",
    "\n",
    "# 반복 회수 정해 놓고 반복\n",
    "#  0~20\n",
    "for i in range(len(records)):\n",
    "    # 초기화\n",
    "    if i == 0:\n",
    "        max_result = records[i]\n",
    "        min_result = records[i]\n",
    "\n",
    "    if max_result < records[i]:\n",
    "        max_result = records[i]\n",
    "    if min_result > records[i]:\n",
    "        min_result = records[i]\n",
    "\n",
    "print(\"최고값\", max_result)\n",
    "print(\"최소값\", min_result) \n",
    "print(\"총점\", total)\n",
    "print(\"평균\", total/int(len(records)))"
   ]
  },
  {
   "cell_type": "code",
   "execution_count": null,
   "metadata": {},
   "outputs": [],
   "source": [
    "#import random\n",
    "#records = [random.randrange(0, 99) for _ in range(10)]\n",
    "records = [90, 85, 70, 55, 95, 60, 80, 90, 85, 70, 55, 95, 60, 80, 90, 85, 70, 55, 95, 60, 80]\n",
    "\n",
    "# 시험점수 최고최저는 정해짐\n",
    "max_score = 0\n",
    "min_score = 100\n",
    "\n",
    "total_score = 0\n",
    "for score in records:\n",
    "    if max_score < score:\n",
    "        max_score = score\n",
    "    if min_score > score:\n",
    "        min_score = score\n",
    "\n",
    "    total_score += score\n",
    "    \n",
    "print(\"점수 목록: \", records)\n",
    "print(f\"최고:{max_score}, 최저:{min_score}, 총점:{total_score}, 평균:{total_score/len(records) : 0.2f}\")"
   ]
  },
  {
   "cell_type": "code",
   "execution_count": 14,
   "metadata": {},
   "outputs": [
    {
     "name": "stdout",
     "output_type": "stream",
     "text": [
      "최고점: 95\n",
      "최저점: 55\n",
      "총점: 1605\n",
      "평균: 76.42857142857143\n"
     ]
    }
   ],
   "source": [
    "records = [90, 85, 70, 55, 95, 60, 80, 90, 85, 70, 55, 95, 60, 80, 90, 85, 70, 55, 95, 60, 80]\n",
    "len(records)\n",
    "\n",
    "\n",
    "a = max(records[:])\n",
    "b = min(records[:])\n",
    "c = sum(records)\n",
    "\n",
    "print(f\"최고점: {a}\" )\n",
    "print(f\"최저점: {b}\")\n",
    "\n",
    "# 초기화\n",
    "sum = 0\n",
    "for i in [90, 85, 70, 55, 95, 60, 80, 90, 85, 70, 55, 95, 60, 80, 90, 85, 70, 55, 95, 60, 80]:\n",
    "    sum += i\n",
    "    \n",
    "print(f\"총점: {sum}\")\n",
    "\n",
    "\n",
    "print(f\"평균: {sum/len(records)}\")"
   ]
  },
  {
   "cell_type": "markdown",
   "metadata": {},
   "source": [
    "> 아래와 같이 실행 결과가 나오는 프로그램 작성 : digit.py"
   ]
  },
  {
   "cell_type": "code",
   "execution_count": null,
   "metadata": {},
   "outputs": [],
   "source": [
    "numbers = [273, 103, 5, 32, 65, 9, 72, 800, 99999]\n",
    "\n",
    "# 실행결과\n",
    "# 273 은(는) 3 자릿수 입니다.\n",
    "# 103 은(는) 3 자릿수 입니다.\n",
    "#   5 은(는) 1 자릿수 입니다.  "
   ]
  },
  {
   "cell_type": "code",
   "execution_count": null,
   "metadata": {},
   "outputs": [],
   "source": [
    "numbers = [273, 103, 5, 32, 65, 9, 72, 800, 99]\n",
    "\n",
    "for i in numbers :\n",
    "    length = len(str(i))\n",
    "    print (f\"{i}는 {length}자릿수 입니다\")"
   ]
  },
  {
   "cell_type": "code",
   "execution_count": null,
   "metadata": {},
   "outputs": [],
   "source": [
    "numbers = [273, 103, 5, 32, 65, 9, 72, 800, 99]\n",
    "for i in numbers:\n",
    "   print(\"{}의 자릿수는 {}자릿수 입니다,\".format(i,len(str(i))))"
   ]
  }
 ],
 "metadata": {
  "interpreter": {
   "hash": "054c0b5073ae8ed56926c5c67113945079b283bacf1a269ae7086b3d9eebd60c"
  },
  "kernelspec": {
   "display_name": "Python 3.10.1 64-bit",
   "language": "python",
   "name": "python3"
  },
  "language_info": {
   "codemirror_mode": {
    "name": "ipython",
    "version": 3
   },
   "file_extension": ".py",
   "mimetype": "text/x-python",
   "name": "python",
   "nbconvert_exporter": "python",
   "pygments_lexer": "ipython3",
   "version": "3.10.1"
  },
  "orig_nbformat": 4
 },
 "nbformat": 4,
 "nbformat_minor": 2
}
