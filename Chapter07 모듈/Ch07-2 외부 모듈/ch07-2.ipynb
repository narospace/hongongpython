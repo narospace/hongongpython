{
 "cells": [
  {
   "cell_type": "markdown",
   "metadata": {},
   "source": [
    "### 07-2 외부 모듈\n",
    "---\n",
    "#### 시작하기 전에   \n",
    "다른 사람이 만들어 배포하는 ***모듈(External Module)***"
   ]
  },
  {
   "cell_type": "markdown",
   "metadata": {},
   "source": [
    "> 모듈 설치하기 ( pip )"
   ]
  },
  {
   "cell_type": "code",
   "execution_count": null,
   "metadata": {},
   "outputs": [],
   "source": [
    "# [cmd], 터미널(ctrl + `) 에서\n",
    "# pip install 모듈이름\n",
    "# \n",
    "\n",
    "# pip install beautifulsoup4"
   ]
  },
  {
   "cell_type": "markdown",
   "metadata": {},
   "source": [
    "> BeautifulSoup 모듈"
   ]
  },
  {
   "cell_type": "code",
   "execution_count": 325,
   "metadata": {},
   "outputs": [
    {
     "name": "stdout",
     "output_type": "stream",
     "text": [
      "오늘 남동구 만수6동의 날씨는 -3°입니다.\n"
     ]
    }
   ],
   "source": [
    "# 웹 페이지 분석 모듈\n",
    "# 현재위치와 현재 온도 출력\n",
    "# 네이버 오늘의 날씨(https://weather.naver.com/today)\n",
    "\n",
    "from urllib import request\n",
    "from bs4 import BeautifulSoup\n",
    "\n",
    "target = request.urlopen('https://weather.naver.com/today')\n",
    "soup = BeautifulSoup(target, \"html.parser\")\n",
    "\n",
    "data = soup.find('div', {'class':'location_area'})\n",
    "address = data.find('strong', {'class':'location_name'}).text\n",
    "temp = soup.find('strong', {'class':'current'}).get_text().replace(\"현재 온도\",\"\")\n",
    "\n",
    "print(f\"오늘 {address}의 날씨는 {temp}입니다.\")"
   ]
  }
 ],
 "metadata": {
  "interpreter": {
   "hash": "4aa7a001941c8b447200068b1d71a3924cf04f02fe096f0aa27a7230a4a7f943"
  },
  "kernelspec": {
   "display_name": "Python 3.10.1 64-bit",
   "language": "python",
   "name": "python3"
  },
  "language_info": {
   "codemirror_mode": {
    "name": "ipython",
    "version": 3
   },
   "file_extension": ".py",
   "mimetype": "text/x-python",
   "name": "python",
   "nbconvert_exporter": "python",
   "pygments_lexer": "ipython3",
   "version": "3.10.1"
  },
  "orig_nbformat": 4
 },
 "nbformat": 4,
 "nbformat_minor": 2
}
