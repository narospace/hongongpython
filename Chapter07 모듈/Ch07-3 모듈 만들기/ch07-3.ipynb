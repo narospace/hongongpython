{
 "cells": [
  {
   "cell_type": "markdown",
   "metadata": {},
   "source": [
    "### 07-3 모듈 만들기\n",
    "---\n",
    "#### 시작하기 전에\n",
    "***모듈(module)*** 변수, 함수, 클래스 등을 모아 놓은 스크립트 파일 재사용 하기"
   ]
  },
  {
   "cell_type": "markdown",
   "metadata": {},
   "source": [
    "> 모듈 만들기 : circle.py"
   ]
  },
  {
   "cell_type": "code",
   "execution_count": null,
   "metadata": {},
   "outputs": [],
   "source": [
    "# PI = 3.141592\n",
    "\n",
    "# def number_input():\n",
    "#     output = input(\"숫자 입력> \")\n",
    "#     return float(output)\n",
    "\n",
    "# def get_circumference(radius):\n",
    "#     return 2 * PI * radius\n",
    "\n",
    "# def get_circle_area(radius):\n",
    "#     return PI * radius * radius"
   ]
  },
  {
   "cell_type": "code",
   "execution_count": 1,
   "metadata": {},
   "outputs": [
    {
     "name": "stdout",
     "output_type": "stream",
     "text": [
      "원의 둘레: 62.83184\n",
      "원의 면적: 314.1592\n"
     ]
    }
   ],
   "source": [
    "import circle as cir\n",
    "\n",
    "radius = cir.number_input()\n",
    "print(\"원의 둘레:\", cir.get_circumference(radius))\n",
    "print(\"원의 면적:\", cir.get_circle_area(radius))\n",
    "\n",
    "# __pycache__ : 프로그램이 실행되면 .pyc, .pyo 바이트 코드 컴파일 및 최적화 된 바이트 코드 프로그램 파일로 저장"
   ]
  },
  {
   "cell_type": "markdown",
   "metadata": {},
   "source": [
    "> 모듈에 클래스 작성하기 : person.py"
   ]
  },
  {
   "cell_type": "code",
   "execution_count": null,
   "metadata": {},
   "outputs": [],
   "source": [
    "# class Person:\n",
    "#     def __init__(self, name, age, address):\n",
    "#         self.name = name\n",
    "#         self.age = age\n",
    "#         self.address = address\n",
    "\n",
    "#     def greeting(self):\n",
    "#         print(\"안녕하십니까? 저는 {0}살 {1}에 사는 {2}입니다.\".format(self.age, self.address, self.name))"
   ]
  },
  {
   "cell_type": "code",
   "execution_count": 1,
   "metadata": {},
   "outputs": [
    {
     "name": "stdout",
     "output_type": "stream",
     "text": [
      "안녕하십니까? 저는 28살 서울에 사는 아이유입니다.\n"
     ]
    }
   ],
   "source": [
    "from person import Person\n",
    "\n",
    "iu = Person(\"아이유\", 28, \"서울\")\n",
    "iu.greeting()"
   ]
  },
  {
   "cell_type": "markdown",
   "metadata": {},
   "source": [
    "> if __name__ == '__main__':"
   ]
  },
  {
   "cell_type": "code",
   "execution_count": null,
   "metadata": {},
   "outputs": [],
   "source": [
    "# if __name__ == '__main__':\n",
    "# 현재 스크립트 파일이 실행되는 상태를 파악하기 위해 사용\n",
    "\n",
    "# print(__name__)\n",
    "\n",
    "# hello.py 저장\n",
    "# print(\"hello 모듈 시작\")\n",
    "# print(\"hello.py __name__: \", __name__) \n",
    "# print(\"hello 모듈 끝\")"
   ]
  },
  {
   "cell_type": "code",
   "execution_count": 4,
   "metadata": {},
   "outputs": [
    {
     "name": "stdout",
     "output_type": "stream",
     "text": [
      "hello 모듈 시작\n",
      "hello.py __name__:  hello\n",
      "hello 모듈 끝\n",
      "main.py __name__: __main__\n"
     ]
    }
   ],
   "source": [
    "# main.py\n",
    "import hello\n",
    "print(\"main.py __name__:\", __name__)"
   ]
  },
  {
   "cell_type": "code",
   "execution_count": null,
   "metadata": {},
   "outputs": [],
   "source": [
    "# 파이썬에서 import 모듈로 가져오면 해당 스크립트 파일은 한 번 실행된다. include 헤더\n",
    "# 임포트한 hello 모듈 실행 후 __main__ 모듈 실행 된다.\n",
    "\n",
    "# 즉, 어떤 스크립트 파일이든 파이썬 인터프리터가 최초로 실행한 스크립트 파일의 __name__에는\n",
    "# '__main__'이 들어간다. 이는 프로그램의 시작점(entry point)이라는 뜻이다. \n",
    "\n",
    "# 따라서 어떤 스크립트 파일이든 시작점도 될 수 있고, 모듈도 될 수 있다.\n",
    "# 그래서 __name__변수를 통해 현재 스크립트 파일이 시작점인지 모듈인지 판단해야 한다."
   ]
  },
  {
   "cell_type": "code",
   "execution_count": null,
   "metadata": {},
   "outputs": [],
   "source": [
    "# calc.py\n",
    "\n",
    "# def add(a, b):\n",
    "#     return a + b\n",
    "\n",
    "# def mul(a, b):\n",
    "#     return a * b\n",
    "\n",
    "# # 프로그램의 시작점일 때만 아래 코드 실행\n",
    "# if __name__ == '__main__':\n",
    "#     print(\"시작하기 전에 : 아래와 같이 함수 호출하여 사용\")\n",
    "#     print(\"add(10, 20) :\", add(10, 20))\n",
    "#     print(\"mul(10, 20) :\", mul(10, 20))"
   ]
  },
  {
   "cell_type": "code",
   "execution_count": 5,
   "metadata": {},
   "outputs": [
    {
     "name": "stdout",
     "output_type": "stream",
     "text": [
      "calc.add(2, 3):  5\n",
      "calc.mul(2, 3):  6\n"
     ]
    }
   ],
   "source": [
    "import calc\n",
    "\n",
    "print(\"calc.add(2, 3): \", calc.add(2, 3))\n",
    "print(\"calc.mul(2, 3): \", calc.mul(2, 3))"
   ]
  },
  {
   "cell_type": "markdown",
   "metadata": {},
   "source": [
    "> 패키지 만들기"
   ]
  },
  {
   "cell_type": "code",
   "execution_count": null,
   "metadata": {},
   "outputs": [],
   "source": [
    "# pip : Package Installer for Python\n",
    "# calcpkg -> __init__.py(패키지 구성 관련 메타 데이터를 담고 있는 파일)->operation->geometry"
   ]
  },
  {
   "cell_type": "code",
   "execution_count": 6,
   "metadata": {},
   "outputs": [
    {
     "name": "stdout",
     "output_type": "stream",
     "text": [
      "50\n",
      "600\n",
      "600.0\n",
      "1200\n"
     ]
    }
   ],
   "source": [
    "import calcpkg.operation\n",
    "import calcpkg.geometry\n",
    "\n",
    "print(calcpkg.operation.add(20, 30))\n",
    "print(calcpkg.operation.mul(20, 30))\n",
    "\n",
    "print(calcpkg.geometry.triangle_area(30, 40))\n",
    "print(calcpkg.geometry.rectangle_area(30, 40))"
   ]
  },
  {
   "cell_type": "code",
   "execution_count": 8,
   "metadata": {},
   "outputs": [
    {
     "data": {
      "text/plain": [
       "200"
      ]
     },
     "execution_count": 8,
     "metadata": {},
     "output_type": "execute_result"
    }
   ],
   "source": [
    "from calcpkg.operation import add, mul\n",
    "add(10, 20)\n",
    "mul(10, 20)"
   ]
  }
 ],
 "metadata": {
  "interpreter": {
   "hash": "4aa7a001941c8b447200068b1d71a3924cf04f02fe096f0aa27a7230a4a7f943"
  },
  "kernelspec": {
   "display_name": "Python 3.10.1 64-bit",
   "language": "python",
   "name": "python3"
  },
  "language_info": {
   "codemirror_mode": {
    "name": "ipython",
    "version": 3
   },
   "file_extension": ".py",
   "mimetype": "text/x-python",
   "name": "python",
   "nbconvert_exporter": "python",
   "pygments_lexer": "ipython3",
   "version": "3.10.1"
  },
  "orig_nbformat": 4
 },
 "nbformat": 4,
 "nbformat_minor": 2
}
