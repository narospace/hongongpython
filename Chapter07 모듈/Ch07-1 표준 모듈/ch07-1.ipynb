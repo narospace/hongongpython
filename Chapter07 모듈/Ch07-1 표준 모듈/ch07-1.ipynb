{
 "cells": [
  {
   "cell_type": "markdown",
   "metadata": {},
   "source": [
    "### 07-1 표준 모듈\n",
    "---\n",
    "#### 시작하기 전에\n",
    "***모듈(module)*** 이란 여러 변수와 함수를 가지고 있는 집합체"
   ]
  },
  {
   "cell_type": "markdown",
   "metadata": {},
   "source": [
    "> 모듈, 패키지, 라이브러리"
   ]
  },
  {
   "cell_type": "code",
   "execution_count": null,
   "metadata": {},
   "outputs": [],
   "source": [
    "# [모듈]\n",
    "# 특정 기능을 .py 파일 단위로 작성한 것\n",
    "\n",
    "# [패키지]\n",
    "# 특정 기능과 관련된 여러 모듈을 묶은 것(네임스페이스: namespace 제공, globals())\n",
    "\n",
    "# [파이썬 표준 라이브러리]\n",
    "# PSL(Python Standard Library) : 파이썬에 기본 설치된 모듈과 패키지, 내장함수"
   ]
  },
  {
   "cell_type": "markdown",
   "metadata": {},
   "source": [
    "> import 모듈 가져오기"
   ]
  },
  {
   "cell_type": "code",
   "execution_count": 24,
   "metadata": {},
   "outputs": [
    {
     "data": {
      "text/plain": [
       "True"
      ]
     },
     "execution_count": 24,
     "metadata": {},
     "output_type": "execute_result"
    }
   ],
   "source": [
    "# import 모듈\n",
    "# import 모듈1, 모듈2, ...\n",
    "# 모듈.변수\n",
    "# 모듈.함수()\n",
    "# 모듈.클래스()\n",
    "\n",
    "import math\n",
    "math.pi\n",
    "math.sqrt(2.0) == 2.0 ** (1/2)"
   ]
  },
  {
   "cell_type": "markdown",
   "metadata": {},
   "source": [
    "> import as 모듈 이름 지정하기"
   ]
  },
  {
   "cell_type": "code",
   "execution_count": 25,
   "metadata": {},
   "outputs": [
    {
     "data": {
      "text/plain": [
       "2.0"
      ]
     },
     "execution_count": 25,
     "metadata": {},
     "output_type": "execute_result"
    }
   ],
   "source": [
    "# import 모듈 as 이름\n",
    "\n",
    "import math as m\n",
    "m.sqrt(4.0)"
   ]
  },
  {
   "cell_type": "markdown",
   "metadata": {},
   "source": [
    "> from import 모듈의 일부만 가져오기"
   ]
  },
  {
   "cell_type": "code",
   "execution_count": 31,
   "metadata": {},
   "outputs": [
    {
     "data": {
      "text/plain": [
       "1.4142135623730951"
      ]
     },
     "execution_count": 31,
     "metadata": {},
     "output_type": "execute_result"
    }
   ],
   "source": [
    "# from 모듈 import 변수/함수\n",
    "from math import pi\n",
    "from math import sqrt as sq\n",
    "pi\n",
    "sq(2.0)"
   ]
  },
  {
   "cell_type": "code",
   "execution_count": 45,
   "metadata": {},
   "outputs": [
    {
     "data": {
      "text/plain": [
       "1.7724538509055159"
      ]
     },
     "execution_count": 45,
     "metadata": {},
     "output_type": "execute_result"
    }
   ],
   "source": [
    "from math import pi as PI, sqrt as s\n",
    "PI\n",
    "s(PI)"
   ]
  },
  {
   "cell_type": "markdown",
   "metadata": {},
   "source": [
    "> 가져온 모듈 해제하기, 다시 가져오기"
   ]
  },
  {
   "cell_type": "code",
   "execution_count": 130,
   "metadata": {},
   "outputs": [
    {
     "data": {
      "text/plain": [
       "3.141592653589793"
      ]
     },
     "execution_count": 130,
     "metadata": {},
     "output_type": "execute_result"
    }
   ],
   "source": [
    "import importlib\n",
    "import math\n",
    "\n",
    "math.pi\n",
    "\n",
    "del math\n",
    "# math.pi\n",
    "\n",
    "import math\n",
    "math.pi"
   ]
  },
  {
   "cell_type": "markdown",
   "metadata": {},
   "source": [
    "> import 패키지 가져오기"
   ]
  },
  {
   "cell_type": "code",
   "execution_count": 131,
   "metadata": {},
   "outputs": [
    {
     "data": {
      "text/plain": [
       "200"
      ]
     },
     "execution_count": 131,
     "metadata": {},
     "output_type": "execute_result"
    }
   ],
   "source": [
    "# 패키지 : 특정 기능과 관련된 여러 모듈을 묶은 것, 패키지 안에 들어있는 모듈 가져오기\n",
    "# import 패키지.모듈\n",
    "\n",
    "# urllib 패키지의 request 모듈 가져오기\n",
    "import urllib.request  # 패키지.모듈\n",
    "\n",
    "response = urllib.request.urlopen('https://google.com') # 패키지.모듈.함수()\n",
    "response.status # HTTP 상태코드 : 200(성공), 400(요청오류)\n"
   ]
  },
  {
   "cell_type": "code",
   "execution_count": 139,
   "metadata": {},
   "outputs": [
    {
     "data": {
      "text/plain": [
       "200"
      ]
     },
     "execution_count": 139,
     "metadata": {},
     "output_type": "execute_result"
    }
   ],
   "source": [
    "# from 패키지.모듈 import 클래스, 함수\n",
    "# from urllib.request import *\n",
    "from urllib.request import Request, urlopen \n",
    "\n",
    "req = Request('https://google.com')\n",
    "res = urlopen(req)\n",
    "res.status"
   ]
  },
  {
   "cell_type": "markdown",
   "metadata": {},
   "source": [
    "> random, sys, os, datetime, time, urllib 모듈"
   ]
  },
  {
   "cell_type": "code",
   "execution_count": null,
   "metadata": {},
   "outputs": [],
   "source": []
  }
 ],
 "metadata": {
  "interpreter": {
   "hash": "4aa7a001941c8b447200068b1d71a3924cf04f02fe096f0aa27a7230a4a7f943"
  },
  "kernelspec": {
   "display_name": "Python 3.10.1 64-bit",
   "language": "python",
   "name": "python3"
  },
  "language_info": {
   "codemirror_mode": {
    "name": "ipython",
    "version": 3
   },
   "file_extension": ".py",
   "mimetype": "text/x-python",
   "name": "python",
   "nbconvert_exporter": "python",
   "pygments_lexer": "ipython3",
   "version": "3.10.1"
  },
  "orig_nbformat": 4
 },
 "nbformat": 4,
 "nbformat_minor": 2
}
