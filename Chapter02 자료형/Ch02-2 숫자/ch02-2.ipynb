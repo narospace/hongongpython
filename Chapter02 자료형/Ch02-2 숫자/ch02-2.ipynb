{
 "cells": [
  {
   "cell_type": "markdown",
   "metadata": {},
   "source": [
    "### 02-2 숫자\n",
    "---"
   ]
  },
  {
   "cell_type": "markdown",
   "metadata": {},
   "source": [
    "#### 시작하기 전에   \n",
    "소수점이 없는 숫자를 ***정수형***이라하고, 소수점이 있는 숫자를 ***실수형***이라 한다.   \n",
    "* 정수(integer) : 0, -1, 273 ....\n",
    "* 실수(float)   : 0.0, 3.141592, -1.2 ...."
   ]
  },
  {
   "cell_type": "markdown",
   "metadata": {},
   "source": [
    "> 숫자의 종류: int(정수), float(부동소수점)등, 자료형에 따라 값에 대한 해석이 달라진다.\n",
    "http://www.binaryconvert.com"
   ]
  },
  {
   "cell_type": "code",
   "execution_count": null,
   "metadata": {},
   "outputs": [],
   "source": [
    "i = 1\n",
    "print(i)\n",
    "print(type(i))\n",
    "\n",
    "f = 1.0\n",
    "print(f)\n",
    "print(type(f))"
   ]
  },
  {
   "cell_type": "markdown",
   "metadata": {},
   "source": [
    "> 정수형(Integer)"
   ]
  },
  {
   "cell_type": "code",
   "execution_count": null,
   "metadata": {},
   "outputs": [],
   "source": [
    "# print(-123, 0 , 47839, 1_000_000)\n",
    "\n",
    "# 기수법(numeral system): binary(2), octal(8), decimal(10), hexadecimal(16)\n",
    "number = 10\n",
    "\n",
    "print(bin(number))\n",
    "print(oct(number))\n",
    "print(number)\n",
    "print(hex(number))\n",
    "\n",
    "n = 100000000000000\n",
    "print(n.bit_length(), bin(n))"
   ]
  },
  {
   "cell_type": "markdown",
   "metadata": {},
   "source": [
    "> 실수형(float)"
   ]
  },
  {
   "cell_type": "code",
   "execution_count": null,
   "metadata": {},
   "outputs": [],
   "source": [
    "# print(-1.2, .0, 1.0, 3.14)\n",
    "\n",
    "# 부동 소수점 표현방식\n",
    "# print(3.14E2)\n",
    "# print(3.14 * 10 ** 2)\n",
    "# print(314e-2)\n",
    "# print(1e-4)\n",
    "\n",
    "# 실수 값의 오차 : 유효범위(정밀도)\n",
    "print(0.1 * 3)\n",
    "print(1.2 - 0.1)\n",
    "print(0.1 * 0.1)\n",
    "\n",
    "print(0.1 * 3 == 0.3)"
   ]
  },
  {
   "cell_type": "markdown",
   "metadata": {},
   "source": [
    "> 숫자 연산자 ( + - * / ** % // = )"
   ]
  },
  {
   "cell_type": "code",
   "execution_count": null,
   "metadata": {},
   "outputs": [],
   "source": [
    "print(\"3 ÷ 2 = \", 3/2)\n",
    "\n",
    "# division always returns a floating point number\n",
    "print(1/1)\n",
    "\n",
    "y = (50 - 5 * 6) / 4\n",
    "print(y)\n",
    "\n",
    "print(15 /  2)\n",
    "print(15 // 2) # 몫(소수점 이하 버림)\n",
    "print(15 %  2) # 나머지\n",
    "print(15 % 2 == 0)\n",
    "\n",
    "# 짝수/홀수 판별\n",
    "n = 8\n",
    "if n % 2 == 0:\n",
    "    print(\"짝수 입니다.\")\n",
    "else:\n",
    "    print(\"홀수 입니다.\")\n",
    "\n",
    "# 제곱/제곱근\n",
    "print(5 ** 2)\n",
    "print(2 ** (1/2))\n",
    "print(9 ** (1/2))"
   ]
  },
  {
   "cell_type": "markdown",
   "metadata": {},
   "source": [
    "> 원의 반지름을 사용자로부터 입력받아 둘레와 면적을 구하는 프로그램 작성( circle.py )"
   ]
  },
  {
   "cell_type": "code",
   "execution_count": null,
   "metadata": {},
   "outputs": [],
   "source": [
    "input()"
   ]
  }
 ],
 "metadata": {
  "interpreter": {
   "hash": "054c0b5073ae8ed56926c5c67113945079b283bacf1a269ae7086b3d9eebd60c"
  },
  "kernelspec": {
   "display_name": "Python 3.10.1 64-bit",
   "language": "python",
   "name": "python3"
  },
  "language_info": {
   "codemirror_mode": {
    "name": "ipython",
    "version": 3
   },
   "file_extension": ".py",
   "mimetype": "text/x-python",
   "name": "python",
   "nbconvert_exporter": "python",
   "pygments_lexer": "ipython3",
   "version": "3.10.1"
  },
  "orig_nbformat": 4
 },
 "nbformat": 4,
 "nbformat_minor": 2
}
