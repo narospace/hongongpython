{
 "cells": [
  {
   "cell_type": "markdown",
   "metadata": {},
   "source": [
    "### 02-4 숫자와 문자열의 다양한 기능\n",
    "---\n",
    "#### 시작하기 전에\n",
    "***문자열 자료형의 기능*** 즉, 내장 함수 알아보기"
   ]
  },
  {
   "cell_type": "code",
   "execution_count": 2,
   "metadata": {},
   "outputs": [
    {
     "name": "stdout",
     "output_type": "stream",
     "text": [
      "LIFE IS SHORT\n",
      "11\n"
     ]
    }
   ],
   "source": [
    "# \"str\".멤버함수호출()\n",
    "\n",
    "print(\"Life is short\".upper())\n",
    "print(\"I am string\".__len__())"
   ]
  },
  {
   "cell_type": "markdown",
   "metadata": {},
   "source": [
    "> 서식 지정자(format specifier)로 문자열 만들기"
   ]
  },
  {
   "cell_type": "code",
   "execution_count": 4,
   "metadata": {},
   "outputs": [
    {
     "name": "stdout",
     "output_type": "stream",
     "text": [
      "철수의 평균 점수는 85.300000입니다.\n",
      "철수의 평균 점수는 85입니다.\n",
      "My name is BTS\n"
     ]
    }
   ],
   "source": [
    "# 철수의 평균 점수는 85.3점입니다.\n",
    "# 영희의 평균 점수는 75.3점입니다.\n",
    "# 길동의 평균 점수는 65.3점입니다.\n",
    "# 순이의 평균 점수는 95.3점입니다.\n",
    "\n",
    "# {이름}의 평균 점수는 {점수}점입니다.\n",
    "\n",
    "# 문자열 안에서 특정 부분을 원하는 값으로 바꿀 때 : 서식 지정자 또는 문자열 포매팅(format())을 사용한다.\n",
    "\n",
    "name = \"철수\" # str\n",
    "score = 85.3  # float\n",
    "\n",
    "print(\"%s의 평균 점수는 %f입니다.\" % (name, score)) # 실수\n",
    "print(\"%s의 평균 점수는 %d입니다.\" % (name, score)) # 정수\n",
    "\n",
    "name = 'BTS'\n",
    "print(\"My name is %s\" % name)"
   ]
  },
  {
   "cell_type": "code",
   "execution_count": 8,
   "metadata": {},
   "outputs": [
    {
     "name": "stdout",
     "output_type": "stream",
     "text": [
      "철수 학생의 점수는 85점입니다.\n",
      "영희 학생의 점수는 98점입니다.\n",
      "길산 학생의 점수는 75점입니다.\n",
      "희경 학생의 점수는 83점입니다.\n",
      "수진 학생의 점수는 91점입니다.\n",
      "영수 학생의 점수는 88점입니다.\n"
     ]
    }
   ],
   "source": [
    "# 학급 학생들의 점수 출력하기\n",
    "import time\n",
    "\n",
    "names  =  [\"철수\", \"영희\", \"길산\", \"희경\", \"수진\", \"영수\"]\n",
    "scores =  [85, 98, 75, 83, 91, 88]\n",
    "#  0~5\n",
    "for i in range(6):\n",
    "    print(\"%s 학생의 점수는 %d점입니다.\" % (names[i], scores[i]))\n",
    "    time.sleep(1)"
   ]
  },
  {
   "cell_type": "markdown",
   "metadata": {},
   "source": [
    "> 문자열 format() 함수"
   ]
  },
  {
   "cell_type": "code",
   "execution_count": null,
   "metadata": {},
   "outputs": [],
   "source": [
    "# 문자열 안에서 정수 변수를 사용할 때\n",
    "year = 2022\n",
    "month = 1\n",
    "day = 5\n",
    "\n",
    "today = \"오늘은 2022년 1월 5일입니다.\"\n",
    "today = \"오늘은 year년 month월 day일입니다.\"\n",
    "today = \"오늘은 {}년 {}월 {}일입니다.\".format(year, month, day)\n",
    "print(today)\n",
    "\n",
    "today = \"오늘은\" + str(year) + \"년\" + str(month) + \"월\" + str(day) + \"일입니다.\""
   ]
  },
  {
   "cell_type": "code",
   "execution_count": 15,
   "metadata": {},
   "outputs": [
    {
     "name": "stdout",
     "output_type": "stream",
     "text": [
      "띵동~ 1번 고객님 접수창구로 와주세요.\n",
      "띵동~ 2번 고객님 접수창구로 와주세요.\n",
      "띵동~ 3번 고객님 접수창구로 와주세요.\n",
      "띵동~ 4번 고객님 접수창구로 와주세요.\n",
      "띵동~ 5번 고객님 접수창구로 와주세요.\n",
      "띵동~ 6번 고객님 접수창구로 와주세요.\n",
      "띵동~ 7번 고객님 접수창구로 와주세요.\n",
      "띵동~ 8번 고객님 접수창구로 와주세요.\n",
      "띵동~ 9번 고객님 접수창구로 와주세요.\n"
     ]
    }
   ],
   "source": [
    "def call(number):\n",
    "    print(\"띵동~ {}번 고객님 접수창구로 와주세요.\".format(number))\n",
    "\n",
    "for i in [1,2,3,4,5,6,7,8,9]:\n",
    "    call(i)\n",
    "    time.sleep(1)"
   ]
  },
  {
   "cell_type": "code",
   "execution_count": 24,
   "metadata": {},
   "outputs": [
    {
     "name": "stdout",
     "output_type": "stream",
     "text": [
      "Script Pytnon Script Pytnon\n",
      "Hello, Python 3.10.1\n",
      "Hello, Java 11\n"
     ]
    }
   ],
   "source": [
    "# format() 함수의 다양한 형태\n",
    "data1 = \"{}만원\".format(5000)\n",
    "data2 = \"{}M, {}M, {}M 달리기\".format(100, 400, 800)\n",
    "\n",
    "#  인덱스 사용\n",
    "data3 = \"Programming Language {} {} {}\".format('Python', 'Script', '3.10.1')\n",
    "\n",
    "data4 = \"{1} {0} {1} {0}\".format('Pytnon', 'Script')\n",
    "print(data4)\n",
    "\n",
    "# 인덱스 대신 변수명 지정하기\n",
    "data5 = \"Hello, {lan} {ver}\".format(lan='Python', ver='3.10.1')\n",
    "print(data5)\n",
    "\n",
    "# 변수명 그대로 사용하기\n",
    "lan = 'Java'\n",
    "ver = '11'\n",
    "data6 = f\"Hello, {lan} {ver}\"\n",
    "print(data6)"
   ]
  },
  {
   "cell_type": "markdown",
   "metadata": {},
   "source": [
    "> IndexError 예외 : { } 인덱스 개수가 함수 매개변수 개수보다 많은 경우"
   ]
  },
  {
   "cell_type": "code",
   "execution_count": 27,
   "metadata": {},
   "outputs": [
    {
     "name": "stdout",
     "output_type": "stream",
     "text": [
      "1 2\n"
     ]
    },
    {
     "ename": "IndexError",
     "evalue": "Replacement index 2 out of range for positional args tuple",
     "output_type": "error",
     "traceback": [
      "\u001b[1;31m---------------------------------------------------------------------------\u001b[0m",
      "\u001b[1;31mIndexError\u001b[0m                                Traceback (most recent call last)",
      "\u001b[1;32m~\\AppData\\Local\\Temp/ipykernel_9768/776721808.py\u001b[0m in \u001b[0;36m<module>\u001b[1;34m\u001b[0m\n\u001b[0;32m      1\u001b[0m \u001b[0mprint\u001b[0m\u001b[1;33m(\u001b[0m\u001b[1;34m\"{} {}\"\u001b[0m\u001b[1;33m.\u001b[0m\u001b[0mformat\u001b[0m\u001b[1;33m(\u001b[0m\u001b[1;36m1\u001b[0m\u001b[1;33m,\u001b[0m\u001b[1;36m2\u001b[0m\u001b[1;33m,\u001b[0m\u001b[1;36m3\u001b[0m\u001b[1;33m,\u001b[0m\u001b[1;36m4\u001b[0m\u001b[1;33m,\u001b[0m\u001b[1;36m5\u001b[0m\u001b[1;33m)\u001b[0m\u001b[1;33m)\u001b[0m\u001b[1;33m\u001b[0m\u001b[1;33m\u001b[0m\u001b[0m\n\u001b[1;32m----> 2\u001b[1;33m \u001b[0mprint\u001b[0m\u001b[1;33m(\u001b[0m\u001b[1;34m\"{} {} {}\"\u001b[0m\u001b[1;33m.\u001b[0m\u001b[0mformat\u001b[0m\u001b[1;33m(\u001b[0m\u001b[1;36m1\u001b[0m\u001b[1;33m,\u001b[0m\u001b[1;36m2\u001b[0m\u001b[1;33m)\u001b[0m\u001b[1;33m)\u001b[0m\u001b[1;33m\u001b[0m\u001b[1;33m\u001b[0m\u001b[0m\n\u001b[0m",
      "\u001b[1;31mIndexError\u001b[0m: Replacement index 2 out of range for positional args tuple"
     ]
    }
   ],
   "source": [
    "print(\"{} {}\".format(1,2,3,4,5))\n",
    "print(\"{} {} {}\".format(1,2))"
   ]
  },
  {
   "cell_type": "markdown",
   "metadata": {},
   "source": [
    "> format() 함수의 다양한 기능 : 숫자 관련"
   ]
  },
  {
   "cell_type": "code",
   "execution_count": 33,
   "metadata": {},
   "outputs": [
    {
     "name": "stdout",
     "output_type": "stream",
     "text": [
      "52\n",
      "52\n",
      "   52\n",
      "00052\n",
      "  [지출내역]\n",
      " 1200 (만원)\n",
      "  200 (만원)\n",
      "   15 (만원)\n",
      " 3500 (만원)\n",
      " 1200 (만원)\n"
     ]
    }
   ],
   "source": [
    "output_a = \"{:d}\".format(52)\n",
    "print(output_a)\n",
    "\n",
    "output_a = \"{:s}\".format(\"52\")\n",
    "print(output_a)\n",
    "\n",
    "output_a = \"{:5d}\".format(52)\n",
    "print(output_a)\n",
    "\n",
    "output_a = \"{:05d}\".format(52)\n",
    "print(output_a)\n",
    "\n",
    "print(\"  [지출내역]\")\n",
    "cost1 = \"{:5d} (만원)\".format(1200)\n",
    "cost2 = \"{:5d} (만원)\".format(200)\n",
    "cost3 = \"{:5d} (만원)\".format(15)\n",
    "cost4 = \"{:5d} (만원)\".format(3500)\n",
    "cost5 = \"{:5d} (만원)\".format(1200)\n",
    "print(cost1)\n",
    "print(cost2)\n",
    "print(cost3)\n",
    "print(cost4)\n",
    "print(cost5)"
   ]
  },
  {
   "cell_type": "code",
   "execution_count": 36,
   "metadata": {},
   "outputs": [
    {
     "name": "stdout",
     "output_type": "stream",
     "text": [
      "+55\n",
      "-55\n"
     ]
    }
   ],
   "source": [
    "# 기호와 함께 출력하기\n",
    "output_a = \"{:+d}\".format(55)\n",
    "print(output_a)\n",
    "\n",
    "output_b = \"{:+d}\".format(-55)\n",
    "print(output_b)"
   ]
  },
  {
   "cell_type": "code",
   "execution_count": 39,
   "metadata": {},
   "outputs": [
    {
     "name": "stdout",
     "output_type": "stream",
     "text": [
      "  +52\n",
      "+0052\n"
     ]
    }
   ],
   "source": [
    "print(\"{:+5d}\".format(52))\n",
    "print(\"{:=+05d}\".format(52))"
   ]
  },
  {
   "cell_type": "code",
   "execution_count": 47,
   "metadata": {},
   "outputs": [
    {
     "name": "stdout",
     "output_type": "stream",
     "text": [
      "3.141592\n",
      "+0000003.141592\n",
      "+00000003.14159\n"
     ]
    }
   ],
   "source": [
    "# 부동 소수점 출력의 형태\n",
    "print(\"{:f}\".format(3.141592))\n",
    "print(\"{:+015f}\".format(3.141592))\n",
    "\n",
    "# 소수점 아래 자릿수 지정하기\n",
    "print(\"{:+015.5f}\".format(3.141592))\n"
   ]
  },
  {
   "cell_type": "markdown",
   "metadata": {},
   "source": [
    "> 대소문자 바꾸기 : upper()와 lower()"
   ]
  },
  {
   "cell_type": "code",
   "execution_count": 50,
   "metadata": {},
   "outputs": [
    {
     "data": {
      "text/plain": [
       "'Hello python programming...!'"
      ]
     },
     "execution_count": 50,
     "metadata": {},
     "output_type": "execute_result"
    }
   ],
   "source": [
    "sentence = \"Hello Python Programming...!\"\n",
    "sentence.upper()\n",
    "sentence.lower()\n",
    "sentence.capitalize()"
   ]
  },
  {
   "cell_type": "markdown",
   "metadata": {},
   "source": [
    "> 문자열 공백 제거하기 : strip(), lstrip(), rstrip()"
   ]
  },
  {
   "cell_type": "code",
   "execution_count": 54,
   "metadata": {},
   "outputs": [
    {
     "name": "stdout",
     "output_type": "stream",
     "text": [
      "입력값:                  Python\n",
      "23\n",
      "Python\n",
      "6\n"
     ]
    }
   ],
   "source": [
    "input_data = \"                 Python\"\n",
    "print(f\"입력값: {input_data}\")\n",
    "print(len(input_data))\n",
    "\n",
    "sentence = input_data.strip()\n",
    "print(sentence)\n",
    "print(len(sentence))"
   ]
  },
  {
   "cell_type": "markdown",
   "metadata": {},
   "source": [
    "> 특정 문자 제거하기"
   ]
  },
  {
   "cell_type": "code",
   "execution_count": 61,
   "metadata": {},
   "outputs": [
    {
     "name": "stdout",
     "output_type": "stream",
     "text": [
      "input_data : , Python. / *\n",
      "Python\n",
      "6\n",
      "!\"#$%&'()*+,-./:;<=>?@[\\]^_`{|}~\n",
      "PYTHON\n"
     ]
    }
   ],
   "source": [
    "input_data = \", Python. / *\"\n",
    "print(f\"input_data : {input_data}\")\n",
    "\n",
    "strip_data = input_data.strip(\",./ *\")\n",
    "print(strip_data)\n",
    "print(len(strip_data))\n",
    "\n",
    "# 구두점을 간단하게 삭제하는 방법\n",
    "import string\n",
    "print(string.punctuation)\n",
    "input_data = \"!\\\"#$%&'()*+,-python./:;<=>?@[\\]^_`{|}~\"\n",
    "strip_data = input_data.strip(string.punctuation).upper() # 메서드 체이닝(method chaining)\n",
    "print(strip_data)"
   ]
  },
  {
   "cell_type": "markdown",
   "metadata": {},
   "source": [
    "> 문자열의 구성 파악하기 : is___()"
   ]
  },
  {
   "cell_type": "code",
   "execution_count": 73,
   "metadata": {},
   "outputs": [
    {
     "name": "stdout",
     "output_type": "stream",
     "text": [
      "다음 단계로 이동\n"
     ]
    }
   ],
   "source": [
    "# 불(bool) 자료형 리턴\n",
    "\"abc123\".isalnum()\n",
    "\"abc\".isalpha()\n",
    "\"123a\".isnumeric()\n",
    "\"123.45\".isdecimal()\n",
    "\"12345\".isdigit()\n",
    "\"ABCD\".isupper()\n",
    "\n",
    "name = \"abc\"\n",
    "if name.isalpha():\n",
    "    print(\"다음 단계로 이동\")\n",
    "else:\n",
    "    print(\"문자를 입력하세요\")"
   ]
  },
  {
   "cell_type": "markdown",
   "metadata": {},
   "source": [
    "> 문자열 위치 찾기 : find()  rfind()"
   ]
  },
  {
   "cell_type": "code",
   "execution_count": 75,
   "metadata": {},
   "outputs": [
    {
     "data": {
      "text/plain": [
       "12"
      ]
     },
     "execution_count": 75,
     "metadata": {},
     "output_type": "execute_result"
    }
   ],
   "source": [
    "# find() : 왼쪽부터 찾아서 처음 등장하는 위치를 반환\n",
    "# rfind(): 오른쪽부터 찾아서 처음 등장하는 위치를 반환\n",
    "\n",
    "i = '012345678901234'\n",
    "s = 'apple pineapple'\n",
    "\n",
    "s.find('pl')  # 2\n",
    "s.rfind('pl') # 12"
   ]
  },
  {
   "cell_type": "markdown",
   "metadata": {},
   "source": [
    "> 문자열과 in 연산자"
   ]
  },
  {
   "cell_type": "code",
   "execution_count": 80,
   "metadata": {},
   "outputs": [
    {
     "name": "stdout",
     "output_type": "stream",
     "text": [
      "True\n",
      "True\n",
      "2\n"
     ]
    }
   ],
   "source": [
    "# 문자열 내부에 어떤(지정한) 문자열이 있는지 확인하기\n",
    "print(\"pine\" in s)\n",
    "\n",
    "sentence = \"\"\"\n",
    "The core of extensible programming is defining functions. \n",
    "Python allows mandatory and optional arguments, \n",
    "keyword arguments, and even arbitrary argument lists.\n",
    "\"\"\"\n",
    "print(\"Python\" in sentence)\n",
    "\n",
    "# 문자열 개수 세기 : count() 특정 문자열이 몇 번 나오는지 알아내기\n",
    "print(sentence.count(\"arguments\"))"
   ]
  },
  {
   "cell_type": "markdown",
   "metadata": {},
   "source": [
    "> 문자열 자르기 : split()"
   ]
  },
  {
   "cell_type": "code",
   "execution_count": 90,
   "metadata": {},
   "outputs": [
    {
     "name": "stdout",
     "output_type": "stream",
     "text": [
      "['10', '20', '30', '40', '50']\n",
      "['apple', 'pear', 'grape', 'pineapple', 'orange']\n",
      "['baseball', 'football', 'golf', 'boxing', 'basketball']\n",
      "baseball football golf boxing basketball "
     ]
    }
   ],
   "source": [
    "# 문자열을 특정 문자로 자를 때 사용\n",
    "li = \"10 20 30 40 50\".split()\n",
    "print(li)\n",
    "\n",
    "fruits = \"apple pear grape pineapple orange\"\n",
    "li = fruits.split()\n",
    "print(li)\n",
    "\n",
    "li[0]\n",
    "li[-1]\n",
    "\n",
    "sports = \"baseball/football/golf/boxing/basketball\"\n",
    "li = sports.split('/')\n",
    "print(li)\n",
    "\n",
    "# for s in ['baseball', 'football', 'golf', 'boxing', 'basketball']:\n",
    "#     print(s)\n",
    "\n",
    "# for s in li:\n",
    "#     print(s)\n",
    "\n",
    "#  0~4\n",
    "for i in range(len(li)):\n",
    "    print(li[i], end=' ')"
   ]
  },
  {
   "cell_type": "code",
   "execution_count": 93,
   "metadata": {},
   "outputs": [
    {
     "name": "stdout",
     "output_type": "stream",
     "text": [
      "['2022', '1', '5']\n",
      "오늘은 2022년 1월 5일입니다.\n"
     ]
    }
   ],
   "source": [
    "date = \"2022.1.5\"\n",
    "li = date.split('.')\n",
    "print(li)\n",
    "\n",
    "year = li[0]\n",
    "month = li[1]\n",
    "day = li[2]\n",
    "\n",
    "print(f\"오늘은 {year}년 {month}월 {day}일입니다.\")"
   ]
  },
  {
   "cell_type": "markdown",
   "metadata": {},
   "source": [
    "> 사용자로부터 입력 받은 모든 정수의 합을 리턴해주는 프로그램 작성 : input_split.py"
   ]
  },
  {
   "cell_type": "code",
   "execution_count": 95,
   "metadata": {},
   "outputs": [
    {
     "name": "stdout",
     "output_type": "stream",
     "text": [
      "60\n"
     ]
    }
   ],
   "source": [
    "nums = input(\"값을 입력해주세요: \")\n",
    "split_nums = nums.split() # [, , , , ...]\n",
    "\n",
    "sum = 0 # 초기화\n",
    "for a in split_nums:\n",
    "    sum += int(a) # int 형변환\n",
    "    \n",
    "print(sum)"
   ]
  },
  {
   "cell_type": "code",
   "execution_count": null,
   "metadata": {},
   "outputs": [],
   "source": [
    "del(sum)\n",
    "\n",
    "li = list(map(int, input().split())) # [10, 20, 30]\n",
    "# print(sum([10, 20, 30]))\n",
    "\n",
    "print(sum(li))"
   ]
  }
 ],
 "metadata": {
  "interpreter": {
   "hash": "054c0b5073ae8ed56926c5c67113945079b283bacf1a269ae7086b3d9eebd60c"
  },
  "kernelspec": {
   "display_name": "Python 3.10.1 64-bit",
   "language": "python",
   "name": "python3"
  },
  "language_info": {
   "codemirror_mode": {
    "name": "ipython",
    "version": 3
   },
   "file_extension": ".py",
   "mimetype": "text/x-python",
   "name": "python",
   "nbconvert_exporter": "python",
   "pygments_lexer": "ipython3",
   "version": "3.10.1"
  },
  "orig_nbformat": 4
 },
 "nbformat": 4,
 "nbformat_minor": 2
}
