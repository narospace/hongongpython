{
 "cells": [
  {
   "cell_type": "markdown",
   "metadata": {},
   "source": [
    "### 02-3 변수와 입력\n",
    "---   \n",
    "#### 시작하기 전에\n",
    "***변수***란 값을 저장하여 사용하기 위한 식별자이다."
   ]
  },
  {
   "cell_type": "markdown",
   "metadata": {},
   "source": [
    "> 변수(Variable) 만들기(사용)"
   ]
  },
  {
   "cell_type": "code",
   "execution_count": null,
   "metadata": {},
   "outputs": [],
   "source": [
    "# 계좌에 100만원 가지고 용산전자상가에서 노트북과 이어폰 사고 정산하기\n",
    "account = 1_000_000 \n",
    "notebook = 500_000\n",
    "earphone = 200_000\n",
    "\n",
    "print(id(account))\n",
    "\n",
    "balance = account - (notebook + earphone)\n",
    "\n",
    "print(\"계좌잔고:\", balance, \"원\")"
   ]
  },
  {
   "cell_type": "code",
   "execution_count": null,
   "metadata": {},
   "outputs": [],
   "source": [
    "# 원의 둘레 면적 구하는 프로그램\n",
    "PI = 3.14159265358979323846264338327"
   ]
  },
  {
   "cell_type": "markdown",
   "metadata": {},
   "source": [
    "> 복합대입연산자 : += -= *= /= %= **="
   ]
  },
  {
   "cell_type": "code",
   "execution_count": 11,
   "metadata": {},
   "outputs": [
    {
     "name": "stdout",
     "output_type": "stream",
     "text": [
      "1\n",
      "10\n",
      "20\n",
      "4.0\n",
      "안녕하세요! 여러분\n",
      "~ ~ ~ ~ ~ \n"
     ]
    }
   ],
   "source": [
    "# 숫자 연산\n",
    "a = 0\n",
    "print(a + 1)\n",
    "a += 10   # a = a + 10\n",
    "print(a)\n",
    "\n",
    "a += 10\n",
    "print(a)\n",
    "\n",
    "a /= 5   # a = a/5\n",
    "print(a)\n",
    "\n",
    "# 문자열 연산(+, *)\n",
    "string = \"안녕하세요!\"\n",
    "string += \" 여러분\"   # string = \"안녕하세요!\" + \" 여러분\"\n",
    "print(string)\n",
    "\n",
    "ch = '~ '\n",
    "ch *= 5   # ch = ch * 5\n",
    "print(ch)"
   ]
  },
  {
   "cell_type": "markdown",
   "metadata": {},
   "source": [
    "> 사용자 입력 : input()"
   ]
  },
  {
   "cell_type": "code",
   "execution_count": 16,
   "metadata": {},
   "outputs": [
    {
     "name": "stdout",
     "output_type": "stream",
     "text": [
      "<class 'str'>\n",
      "20\n"
     ]
    }
   ],
   "source": [
    "keyboard = input(\"숫자를 입력해 주세요: \")\n",
    "print(type(keyboard))\n",
    "\n",
    "print(int(keyboard) + 10)"
   ]
  },
  {
   "cell_type": "markdown",
   "metadata": {},
   "source": [
    "> 타입 캐스팅(형변환) "
   ]
  },
  {
   "cell_type": "code",
   "execution_count": 18,
   "metadata": {},
   "outputs": [
    {
     "name": "stdout",
     "output_type": "stream",
     "text": [
      "입력값 10\n",
      "<class 'str'>\n",
      "int(입력값): 10\n",
      "<class 'int'>\n",
      "입력값 + 10 = 20\n"
     ]
    }
   ],
   "source": [
    "keyboard = input(\"숫자를 입력해 주세요: \")\n",
    "print(\"입력값\", keyboard)\n",
    "print(type(keyboard))\n",
    "\n",
    "# 'str' to 'int' : 문자열을 숫자로\n",
    "keyboard = int(keyboard)\n",
    "print(\"int(입력값):\", keyboard)\n",
    "print(type(keyboard))\n",
    "\n",
    "keyboard += 10\n",
    "print(\"입력값 + 10 =\", keyboard)"
   ]
  },
  {
   "cell_type": "code",
   "execution_count": 20,
   "metadata": {},
   "outputs": [
    {
     "name": "stdout",
     "output_type": "stream",
     "text": [
      "<class 'float'>\n"
     ]
    }
   ],
   "source": [
    "radius = float(input(\"원의 반지름(실수)을 입력하세요: \")) # '3.14'-> 3.14\n",
    "print(type(radius))"
   ]
  },
  {
   "cell_type": "markdown",
   "metadata": {},
   "source": [
    "> 사용자 입력값 계산하기"
   ]
  },
  {
   "cell_type": "code",
   "execution_count": null,
   "metadata": {},
   "outputs": [],
   "source": [
    "# 숫자를 두 번 입력받아 계산하고 결과(사칙연산)를 출력하시오\n",
    "\n",
    "# 변수 선언 및 초기화\n",
    "x = None; y = None\n",
    "\n",
    "data1 = input(\"첫 번째 숫자 입력: \")\n",
    "data2 = input(\"첫 번째 숫자 입력: \")\n",
    "x = float(data1)\n",
    "y = float(data2)"
   ]
  },
  {
   "cell_type": "markdown",
   "metadata": {},
   "source": [
    "> ValueError 예외"
   ]
  },
  {
   "cell_type": "code",
   "execution_count": null,
   "metadata": {},
   "outputs": [],
   "source": [
    "# print(dir(__builtins__))\n",
    "\n",
    "# 첫째, 숫자가 아닌 자료를 숫자로 변환하려고 할 때\n",
    "# data = int(input(\"정수를 입력하세요: \")) # \"Hello\" 문자열 입력\n",
    "# print(data)\n",
    "\n",
    "i = int(\"123456789\")\n",
    "print(i)\n",
    "\n",
    "int(\"안녕하세요\")\n",
    "float(\"Python\")"
   ]
  },
  {
   "cell_type": "code",
   "execution_count": null,
   "metadata": {},
   "outputs": [],
   "source": [
    "# 둘째, 소수점이 있는 숫자 형식의 문자열을 int() 형변환하려고 할 때\n",
    "\n",
    "x = 42.195\n",
    "print(int(x))\n",
    "\n",
    "s = \"42195\"\n",
    "print(int(s))\n",
    "\n",
    "sf = \"42.195\"\n",
    "float(sf) \n",
    "int(sf) # ValueError: invalid literal for int() with base 10: '42.195'"
   ]
  },
  {
   "cell_type": "markdown",
   "metadata": {},
   "source": [
    "> 숫자를 문자열로 바꾸기 : str()"
   ]
  },
  {
   "cell_type": "code",
   "execution_count": 31,
   "metadata": {},
   "outputs": [
    {
     "name": "stdout",
     "output_type": "stream",
     "text": [
      "50\n",
      "2030\n"
     ]
    }
   ],
   "source": [
    "a = 20\n",
    "b = 30\n",
    "print(a + b)\n",
    "\n",
    "a = str(a) # 20 -> '20'\n",
    "b = str(b) # 30 -> '30'\n",
    "print(a + b)"
   ]
  },
  {
   "cell_type": "code",
   "execution_count": null,
   "metadata": {},
   "outputs": [],
   "source": [
    "# \"오늘의 날짜: 2022.1.5\""
   ]
  },
  {
   "cell_type": "code",
   "execution_count": 32,
   "metadata": {},
   "outputs": [
    {
     "name": "stdout",
     "output_type": "stream",
     "text": [
      "오늘의 날짜 : 2022년1월5일\n"
     ]
    }
   ],
   "source": [
    "import datetime\n",
    "\n",
    "now = datetime.datetime.now()\n",
    "\n",
    "print(\"오늘의 날짜 : {}년{}월{}일\".format(\n",
    "    now.year,\n",
    "    now.month,\n",
    "    now.day\n",
    "))"
   ]
  },
  {
   "cell_type": "code",
   "execution_count": 33,
   "metadata": {},
   "outputs": [
    {
     "name": "stdout",
     "output_type": "stream",
     "text": [
      "오늘의 날짜: 2022.1.5\n"
     ]
    }
   ],
   "source": [
    "current = datetime.datetime.now()\n",
    "\n",
    "print(\"오늘의 날짜: {}.{}.{}\".format(current.year, current.month, current.day))"
   ]
  },
  {
   "cell_type": "code",
   "execution_count": 34,
   "metadata": {},
   "outputs": [
    {
     "name": "stdout",
     "output_type": "stream",
     "text": [
      "오늘의 날짜는 2022-01-05 입니다\n"
     ]
    }
   ],
   "source": [
    "import datetime\n",
    "today = datetime.datetime.today().strftime('%Y-%m-%d')\n",
    "\n",
    "print(\"오늘의 날짜는 {} 입니다\" .format(today))"
   ]
  },
  {
   "cell_type": "code",
   "execution_count": null,
   "metadata": {},
   "outputs": [],
   "source": [
    "# 사용자로부터 인치(inch)를 입력받아 (cm) 리턴해주는 프로그램 작성"
   ]
  },
  {
   "cell_type": "code",
   "execution_count": 35,
   "metadata": {},
   "outputs": [
    {
     "name": "stdout",
     "output_type": "stream",
     "text": [
      "사용자가 입력한 32.0인치는 81.28cm 입니다.\n"
     ]
    }
   ],
   "source": [
    "# 사용자 입력값 받기(inch)\n",
    "inch = float(input(\"인치 입력: \"))\n",
    "\n",
    "# 1 inch -> 2.54cm\n",
    "cm = (inch * 2.54)\n",
    "\n",
    "print(\"사용자가 입력한 {}인치는 {}cm 입니다.\".format(inch, cm))"
   ]
  },
  {
   "cell_type": "code",
   "execution_count": 36,
   "metadata": {},
   "outputs": [
    {
     "name": "stdout",
     "output_type": "stream",
     "text": [
      "7 cm입니다.\n"
     ]
    }
   ],
   "source": [
    "a = int(input('인치를 입력하세요 : '))\n",
    "print('%s cm입니다.'% int(a*2.54))"
   ]
  },
  {
   "cell_type": "code",
   "execution_count": 37,
   "metadata": {},
   "outputs": [
    {
     "name": "stdout",
     "output_type": "stream",
     "text": [
      "센치는 0.07619999999999999cm 입니다\n"
     ]
    }
   ],
   "source": [
    "inch = float(input(\"인치를 입력해주세요: \"))\n",
    "print(f\"센치는 {inch * 0.0254}cm 입니다\")"
   ]
  },
  {
   "cell_type": "code",
   "execution_count": 38,
   "metadata": {},
   "outputs": [
    {
     "name": "stdout",
     "output_type": "stream",
     "text": [
      "3.0인치는 7.62cm 입니다\n"
     ]
    }
   ],
   "source": [
    "i = float(input('인치를 입력하세요'))\n",
    "c = i * 2.54\n",
    "print('{}인치는 {}cm 입니다'.format(i,c))"
   ]
  }
 ],
 "metadata": {
  "interpreter": {
   "hash": "054c0b5073ae8ed56926c5c67113945079b283bacf1a269ae7086b3d9eebd60c"
  },
  "kernelspec": {
   "display_name": "Python 3.10.1 64-bit",
   "language": "python",
   "name": "python3"
  },
  "language_info": {
   "codemirror_mode": {
    "name": "ipython",
    "version": 3
   },
   "file_extension": ".py",
   "mimetype": "text/x-python",
   "name": "python",
   "nbconvert_exporter": "python",
   "pygments_lexer": "ipython3",
   "version": "3.10.1"
  },
  "orig_nbformat": 4
 },
 "nbformat": 4,
 "nbformat_minor": 2
}
