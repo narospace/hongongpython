{
 "cells": [
  {
   "cell_type": "markdown",
   "metadata": {},
   "source": [
    "### 03-2 if ~ else 와 elif 문\n",
    "---\n",
    "#### 시작하기 전에\n",
    "**두 가지**만 구분되는 실행 흐름 : 오전/오후, 주간/야간, 남/여, 합격/불합격"
   ]
  },
  {
   "cell_type": "code",
   "execution_count": null,
   "metadata": {},
   "outputs": [],
   "source": [
    "# 오전/오후\n",
    "import datetime\n"
   ]
  },
  {
   "cell_type": "markdown",
   "metadata": {},
   "source": [
    "> elif 구문 : 여러가지 케이스로 분기하고자 할 때"
   ]
  },
  {
   "cell_type": "code",
   "execution_count": null,
   "metadata": {},
   "outputs": [],
   "source": [
    "# 계절별, 요일별....\n",
    "\n",
    "# 학점 판별\n",
    "score = 0\n",
    "grade = \"\"\n",
    "\n",
    "score = int(input(\"점수를 입력하세요: \"))\n",
    "if score >= 95:\n",
    "    grade = \"A+\"\n",
    "elif score >= 90:     \n",
    "    grade = \"A\"\n",
    "elif score >= 85:\n",
    "    grade = \"B+\"\n",
    "elif score >= 80:\n",
    "    grade = \"B\"\n",
    "elif score >= 75:\n",
    "    grade = \"C+\"\n",
    "elif score >= 70:\n",
    "    grade = \"C\"\n",
    "else:\n",
    "    grade = \"D\"\n",
    "\n",
    "print(f\"당신의 점수는 {score}점이고, 등급은 {grade}입니다.\")"
   ]
  },
  {
   "cell_type": "markdown",
   "metadata": {},
   "source": [
    "> False로 변환되는 값 : 0, 0.0, 빈 컨테이너, 빈 문자열, None"
   ]
  },
  {
   "cell_type": "code",
   "execution_count": 1,
   "metadata": {},
   "outputs": [
    {
     "name": "stdout",
     "output_type": "stream",
     "text": [
      "0은 False로 변환\n"
     ]
    },
    {
     "data": {
      "text/plain": [
       "False"
      ]
     },
     "execution_count": 1,
     "metadata": {},
     "output_type": "execute_result"
    }
   ],
   "source": [
    "if 0:\n",
    "    print(\"0은 True로 변환\")\n",
    "else:\n",
    "    print(\"0은 False로 변환\")\n",
    "\n",
    "# if \"\":\n",
    "# else:\n",
    "\n",
    "bool(None)"
   ]
  },
  {
   "cell_type": "markdown",
   "metadata": {},
   "source": [
    "> pass 키워드 : 프로그래밍 시 전체 골격을 잡아 놓고 처리 할 내용은 차근차근 구현하고자 할 때"
   ]
  },
  {
   "cell_type": "code",
   "execution_count": 2,
   "metadata": {},
   "outputs": [],
   "source": [
    "number = input(\"정수입력 > \")\n",
    "number = int(number)\n",
    "if number > 0:\n",
    "    # 양수일 때 : 아직 미구현 상태\n",
    "    0\n",
    "else:\n",
    "    # 음수일 때 : 아직 미구현 상태\n",
    "    0\n",
    "\n",
    "if number > 0:\n",
    "    pass\n",
    "else:\n",
    "    pass\n",
    "\n",
    "# 예외처리\n",
    "if number > 0:\n",
    "    raise NotImplementedError\n",
    "else:\n",
    "    raise NotImplementedError"
   ]
  },
  {
   "cell_type": "markdown",
   "metadata": {},
   "source": [
    "> 사용자로부터 태어난 년도를 입력받아 띠를 리턴해주는 프로그램 작성"
   ]
  },
  {
   "cell_type": "code",
   "execution_count": null,
   "metadata": {},
   "outputs": [],
   "source": [
    "print(\"[  00,   01, 02,   03,   04,   05,    06,    07,   08, 09, 10, 11 ]\")\n",
    "print(\"[원숭이, 닭, 개,  돼지   쥐,   소,  호랑이, 토끼,  용, 뱀, 말, 양 ]\")\n",
    "zodiac = ['🐵','🐔','🐶','🐷','🐭','🐮','🐯','🐰','🐲','🐍','🐴','🐑']"
   ]
  },
  {
   "cell_type": "code",
   "execution_count": 3,
   "metadata": {},
   "outputs": [
    {
     "name": "stdout",
     "output_type": "stream",
     "text": [
      "개띠입니다.\n"
     ]
    }
   ],
   "source": [
    "str_input = input(\"태어난 년도를 입력하시오 : \")\n",
    "year_data = int(str_input) \n",
    "remainder = year_data % 12\n",
    "# 띠\n",
    "sign = \"\"\n",
    "print(f\"나머지: {remainder}\")\n",
    "\n",
    "if remainder == 0:\n",
    "    sign = \"🙉\"\n",
    "elif remainder == 1:\n",
    "    print(\"닭띠입니다.\")\n",
    "elif remainder == 2:\n",
    "    sign = \"🐶\"\n",
    "elif remainder == 3:\n",
    "    sign = \"🐶\"\n",
    "elif remainder == 4:\n",
    "    sign = \"🐶\"\n",
    "elif remainder == 5:\n",
    "    sign = \"🐶\"\n",
    "elif remainder == 6:\n",
    "    sign = \"🐶\"\n",
    "elif remainder == 7:\n",
    "    sign = \"🐶\"\n",
    "elif remainder == 8:\n",
    "    sign = \"🐶\"\n",
    "elif remainder == 9:\n",
    "    sign = \"🐶\"\n",
    "elif remainder == 10:\n",
    "    sign = \"🐶\"\n",
    "elif remainder == 11:\n",
    "    sign = \"🐶\"\n",
    "\n",
    "print(f\"당신은 {sign} 띠 입니다.\")"
   ]
  },
  {
   "cell_type": "code",
   "execution_count": 5,
   "metadata": {},
   "outputs": [
    {
     "name": "stdout",
     "output_type": "stream",
     "text": [
      "당신의 띠는 토끼 입니다.\n"
     ]
    }
   ],
   "source": [
    "zodiac = ['원숭이', '닭', '개', '돼지', '쥐', '소', '호랑이', '토끼', '용', '뱀', '말', '양']\n",
    "try:\n",
    "    print(f\"당신의 띠는 {zodiac[int(input('태어난 해를 입력하세요'))%12]} 입니다.\")\n",
    "except:\n",
    "    print(\"잘못입력했습니다.\")"
   ]
  },
  {
   "cell_type": "code",
   "execution_count": null,
   "metadata": {},
   "outputs": [],
   "source": [
    "dat = [\"원숭이\", \"닭\", \"개\", \"돼지\", \"쥐\", \"소\", \"호랑이\", \"토끼\", '용', \"뱀\", \"말\", '양']\n",
    "\n",
    "year = input(\"태어난 날짜를 입력하세요: \")\n",
    "year = int(year)\n",
    "number = year % 12\n",
    "#  0~11\n",
    "for a in range(len(dat)):\n",
    "    if number == a:\n",
    "        print(dat[a])"
   ]
  },
  {
   "cell_type": "markdown",
   "metadata": {},
   "source": [
    "> 현재 계절을 리턴해주는 프로그램 작성"
   ]
  },
  {
   "cell_type": "code",
   "execution_count": 6,
   "metadata": {},
   "outputs": [
    {
     "name": "stdout",
     "output_type": "stream",
     "text": [
      "겨울입니다\n"
     ]
    }
   ],
   "source": [
    "import datetime\n",
    "\n",
    "current_mth = datetime.datetime.now().month\n",
    "if current_mth == 1 or current_mth == 2:\n",
    "    current_mth += 12\n",
    "\n",
    "if 3 <= current_mth <= 5:\n",
    "    print(\"봄입니다\")\n",
    "elif 6 <= current_mth <= 8:\n",
    "    print(\"여름입니다\")\n",
    "elif 9 <= current_mth <= 11:\n",
    "    print(\"가을입니다\")\n",
    "elif 12 <= current_mth <= 14:\n",
    "    print(\"겨울입니다\")\n",
    "else:\n",
    "    pass"
   ]
  },
  {
   "cell_type": "code",
   "execution_count": 10,
   "metadata": {},
   "outputs": [
    {
     "name": "stdout",
     "output_type": "stream",
     "text": [
      "겨울\n",
      "입니다.\n",
      "입니다.\n",
      "입니다.\n"
     ]
    }
   ],
   "source": [
    "import datetime\n",
    "month = datetime.datetime.now().month\n",
    "if 3 <= month <= 5 : print(\"봄\")\n",
    "elif 6 <= month <= 8 : print(\"여름\")\n",
    "elif 9 <= month <= 11 : print(\"가을\")\n",
    "else : print(\"겨울\"); print(\"입니다.\"); print(\"입니다.\"); print(\"입니다.\")"
   ]
  },
  {
   "cell_type": "code",
   "execution_count": null,
   "metadata": {},
   "outputs": [],
   "source": [
    "import datetime as dt\n",
    "season = ['겨울', '봄','여름', '가을']\n",
    "m = dt.datetime.now().month\n",
    "print(f'지금은 {m}월이고 {season[(m%12)//3]}입니다')"
   ]
  },
  {
   "cell_type": "markdown",
   "metadata": {},
   "source": [
    "> 짝수, 홀수 구분하는 프로그램"
   ]
  },
  {
   "cell_type": "code",
   "execution_count": null,
   "metadata": {},
   "outputs": [],
   "source": [
    "input_data = input(\"정수입력> \")\n",
    "\n",
    "# 마지막 자리 숫자 추출\n",
    "last_char = input_data[-1]\n",
    "\n",
    "# 숫자로 변환\n",
    "number = int(last_char)\n",
    "\n",
    "if number == 0 or number == 2 \\\n",
    "or number == 4 or number == 6 or number == 8 :\n",
    "    print(\"{} (은)는 짝수입니다.\".format(input_data))\n",
    "else:\n",
    "    print(\"{} (은)는 홀수입니다.\".format(input_data))"
   ]
  },
  {
   "cell_type": "code",
   "execution_count": null,
   "metadata": {},
   "outputs": [],
   "source": [
    "input_data = input(\"정수입력> \")\n",
    "\n",
    "# 마지막 자리 숫자 추출\n",
    "last_char = input_data[-1]\n",
    "\n",
    "if \"last_char\" in \"02468\":\n",
    "    print(\"{} (은)는 짝수입니다.\".format(input_data))\n",
    "else:\n",
    "    print(\"{} (은)는 홀수입니다.\".format(input_data))"
   ]
  },
  {
   "cell_type": "code",
   "execution_count": null,
   "metadata": {},
   "outputs": [],
   "source": [
    "# % 연산자 사용\n",
    "if number % 2 == 0:\n",
    "    print(\"{} (은)는 짝수입니다.\".format(input_data))\n",
    "else:\n",
    "    print(\"{} (은)는 홀수입니다.\".format(input_data))"
   ]
  }
 ],
 "metadata": {
  "interpreter": {
   "hash": "054c0b5073ae8ed56926c5c67113945079b283bacf1a269ae7086b3d9eebd60c"
  },
  "kernelspec": {
   "display_name": "Python 3.10.1 64-bit",
   "language": "python",
   "name": "python3"
  },
  "language_info": {
   "codemirror_mode": {
    "name": "ipython",
    "version": 3
   },
   "file_extension": ".py",
   "mimetype": "text/x-python",
   "name": "python",
   "nbconvert_exporter": "python",
   "pygments_lexer": "ipython3",
   "version": "3.10.1"
  },
  "orig_nbformat": 4
 },
 "nbformat": 4,
 "nbformat_minor": 2
}
