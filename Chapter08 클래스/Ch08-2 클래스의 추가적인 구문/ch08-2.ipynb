{
 "cells": [
  {
   "cell_type": "markdown",
   "metadata": {},
   "source": [
    "### 08-2 클래스의 추가적인 구문\n",
    "---\n",
    "***상속***, ***오버라이딩***"
   ]
  },
  {
   "cell_type": "code",
   "execution_count": null,
   "metadata": {},
   "outputs": [],
   "source": [
    "# 상속(Inheritance) : 기반(부모)클래스의 속성 및 기능을 파생(자식)클래스로 물려주는 방법\n",
    "# 메소드 오버라이딩(Overriding) : 파생(자식)클래스에서 기반(부모)클래스의 메소드를 재정의하는 방법"
   ]
  },
  {
   "cell_type": "markdown",
   "metadata": {},
   "source": [
    "> 어떤 클래스의 인스턴스인지 확인하기"
   ]
  },
  {
   "cell_type": "code",
   "execution_count": 2,
   "metadata": {},
   "outputs": [
    {
     "name": "stdout",
     "output_type": "stream",
     "text": [
      "<class '__main__.Student'>\n",
      "True\n"
     ]
    }
   ],
   "source": [
    "class Student:\n",
    "    def __init__(self):\n",
    "        pass\n",
    "\n",
    "s1 = Student()\n",
    "print(type(s1))\n",
    "print(isinstance(s1, Student))"
   ]
  },
  {
   "cell_type": "code",
   "execution_count": 8,
   "metadata": {},
   "outputs": [
    {
     "name": "stdout",
     "output_type": "stream",
     "text": [
      "isinstance(s1, Human): True\n",
      "type(s2) == Human: False\n"
     ]
    }
   ],
   "source": [
    "class Human:\n",
    "    def __init__(self):\n",
    "        pass\n",
    "\n",
    "class Student(Human):\n",
    "    def __init__(self):\n",
    "        pass\n",
    "\n",
    "s2 = Student()\n",
    "\n",
    "print(\"isinstance(s2, Human):\", isinstance(s2, Human))  # 상속관계 포함\n",
    "print(\"type(s2) == Human:\", type(s2) == Human)          \n"
   ]
  },
  {
   "cell_type": "code",
   "execution_count": 18,
   "metadata": {},
   "outputs": [
    {
     "name": "stdout",
     "output_type": "stream",
     "text": [
      "공부를 합니다.\n",
      "공부를 합니다.\n",
      "학생을 가르칩니다.\n",
      "공부를 합니다.\n",
      "공부를 합니다.\n"
     ]
    }
   ],
   "source": [
    "# 객체가 어떤 클래스의 인스턴스인지 따라 각각의 대상이 가지고 있는\n",
    "# 적절한 함수를 호출할 때 사용\n",
    "class Student:\n",
    "    def study(self):\n",
    "        print(\"공부를 합니다.\")\n",
    "\n",
    "class Teacher:\n",
    "    def teach(self):\n",
    "        print(\"학생을 가르칩니다.\")\n",
    "\n",
    "classroom = [Student(), Student(), Teacher(), Student(), Student()]\n",
    "\n",
    "for person in classroom:\n",
    "    if isinstance(person, Student):\n",
    "        person.study()\n",
    "    elif isinstance(person, Teacher):\n",
    "        person.teach()"
   ]
  },
  {
   "cell_type": "markdown",
   "metadata": {},
   "source": [
    "> 특수한 이름의 메소드"
   ]
  },
  {
   "cell_type": "code",
   "execution_count": null,
   "metadata": {},
   "outputs": [],
   "source": [
    "s3 = Student()\n",
    "# s3. __<이름>__() 형태 : 모두 파이썬 클래스를 사용할 때 제공해 주는 보조 기능\n",
    "# 스페셜메소드, 매직메소드 : 특수한 상황에서 자동으로 호출"
   ]
  },
  {
   "cell_type": "code",
   "execution_count": 19,
   "metadata": {},
   "outputs": [
    {
     "name": "stdout",
     "output_type": "stream",
     "text": [
      "=====================\n",
      "이 름\t총점\t평균\n",
      "=====================\n",
      "김철수\t368\t92.00\n",
      "이영희\t358\t89.50\n",
      "권호균\t363\t90.75\n",
      "임수지\t341\t85.25\n",
      "최재석\t328\t82.00\n",
      "박철우\t367\t91.75\n"
     ]
    }
   ],
   "source": [
    "# =========================================================================================\n",
    "class Student:\n",
    "        def __init__(self, name, korean, math, english, science):\n",
    "            self.name = name\n",
    "            self.korean = korean\n",
    "            self.math = math\n",
    "            self.english = english\n",
    "            self.science = science\n",
    "\n",
    "        def get_sum(self):\n",
    "            return self.korean + self.math + self.english + self.science\n",
    "        \n",
    "        def get_average(self):\n",
    "            return self.get_sum() / 4\n",
    "\n",
    "        # __str__() 오버라이딩\n",
    "        def __str__(self):\n",
    "            return \"{}\\t{}\\t{:0.2f}\".format(self.name, self.get_sum(), self.get_average())\n",
    "\n",
    "# ==========================================================================================\n",
    "\n",
    "students = [\n",
    "    Student(\"김철수\", 87, 98, 88, 95),\n",
    "    Student(\"이영희\", 92, 91, 78, 97),\n",
    "    Student(\"권호균\", 87, 98, 88, 90),\n",
    "    Student(\"임수지\", 76, 98, 80, 87),\n",
    "    Student(\"최재석\", 87, 77, 88, 76),\n",
    "    Student(\"박철우\", 92, 98, 88, 89)\n",
    "]\n",
    "\n",
    "print(\"=\"* 21)\n",
    "print(\"이 름\", \"총점\", \"평균\", sep='\\t')\n",
    "print(\"=\"* 21)\n",
    "for stu in students:\n",
    "    # str() 함수의 매개변수로 객체를 전달하면 자동으로 __str__() 함수가 호출된다.\n",
    "    print(str(stu))"
   ]
  },
  {
   "cell_type": "code",
   "execution_count": 30,
   "metadata": {},
   "outputs": [
    {
     "name": "stdout",
     "output_type": "stream",
     "text": [
      "자동차의 모델명은 Lamborghini 입니다.\n"
     ]
    }
   ],
   "source": [
    "class Car:\n",
    "    def __init__(self, model):\n",
    "        self.model = model\n",
    "    def __str__(self):\n",
    "        return \"자동차의 모델명은 {} 입니다.\".format(self.model)\n",
    "\n",
    "mycar = Car(\"Lamborghini\") \n",
    "print(str(mycar)) # <__main__.Car object at 0x0000017520AB32E0>\n",
    "                  # 자동차의 모델명은 Lamborghini 입니다."
   ]
  },
  {
   "cell_type": "code",
   "execution_count": 51,
   "metadata": {},
   "outputs": [
    {
     "name": "stdout",
     "output_type": "stream",
     "text": [
      "s1 == s2 : False\n",
      "s1  > s2 : True\n",
      "s1  < s2 : False\n"
     ]
    }
   ],
   "source": [
    "# =========================================================================================\n",
    "class Student:\n",
    "        def __init__(self, name, korean, math, english, science):\n",
    "            self.name = name\n",
    "            self.korean = korean\n",
    "            self.math = math\n",
    "            self.english = english\n",
    "            self.science = science\n",
    "\n",
    "        def get_sum(self):\n",
    "            return self.korean + self.math + self.english + self.science\n",
    "        \n",
    "        def get_average(self):\n",
    "            return self.get_sum() / 4\n",
    "\n",
    "        # __str__() 오버라이딩\n",
    "        def __str__(self):\n",
    "            return \"{}\\t{}\\t{:0.2f}\".format(self.name, self.get_sum(), self.get_average())\n",
    "\n",
    "        # equal 같다\n",
    "        def __eq__(self, obj):\n",
    "            return self.get_sum() == obj.get_sum() \n",
    "\n",
    "        # greater than 크다\n",
    "        def __gt__(self, obj):\n",
    "            return self.get_sum() > obj.get_sum()    \n",
    "\n",
    "        # less than 작다\n",
    "        def __lt__(self, obj):\n",
    "            return self.get_sum() < obj.get_sum()    \n",
    "\n",
    "# ==========================================================================================\n",
    "\n",
    "s1 = Student(\"김철수\", 87, 98, 88, 95) # 368\n",
    "s2 = Student(\"이영희\", 92, 91, 78, 97) # 358\n",
    "\n",
    "print(\"s1 == s2 :\", s1 == s2)\n",
    "print(\"s1  > s2 :\", s1  > s2)\n",
    "print(\"s1  < s2 :\", s1  < s2)"
   ]
  },
  {
   "cell_type": "markdown",
   "metadata": {},
   "source": [
    "> 클래스 변수와 메소드"
   ]
  },
  {
   "cell_type": "code",
   "execution_count": 56,
   "metadata": {},
   "outputs": [
    {
     "name": "stdout",
     "output_type": "stream",
     "text": [
      "1대 출고 되었습니다.\n",
      "2대 출고 되었습니다.\n",
      "3대 출고 되었습니다.\n"
     ]
    },
    {
     "data": {
      "text/plain": [
       "'자동차의 모델명은 Avente 입니다.'"
      ]
     },
     "execution_count": 56,
     "metadata": {},
     "output_type": "execute_result"
    }
   ],
   "source": [
    "# 클래스 변수 만들기\n",
    "class Car:\n",
    "    count = 0\n",
    "\n",
    "    def __init__(self, model):\n",
    "        self.model = model\n",
    "        Car.count += 1\n",
    "        print(\"{}대 출고 되었습니다.\".format(Car.count))\n",
    "\n",
    "    def __str__(self):\n",
    "        return \"자동차의 모델명은 {} 입니다.\".format(self.model)\n",
    "    \n",
    "\n",
    "mycar   = Car(\"Lamborghini\")\n",
    "subcar  = Car(\"Avente\")\n",
    "yourcar = Car(\"Sorento\")\n",
    "str(subcar)"
   ]
  },
  {
   "cell_type": "code",
   "execution_count": 61,
   "metadata": {},
   "outputs": [
    {
     "name": "stdout",
     "output_type": "stream",
     "text": [
      "5\n",
      "6\n"
     ]
    }
   ],
   "source": [
    "# 클래스 함수 만들기\n",
    "# 인스턴스 객체가 아닌 클래스 자체의 기능 즉, 유틸리티 객체로 사용할 때\n",
    "\n",
    "class Calc:\n",
    "    x = None\n",
    "    y = None\n",
    "    \n",
    "    # 데코레이터(decorator)\n",
    "    @classmethod\n",
    "    # 클래스 함수의 첫 번째 매개변수는 클래스 자체(cls)\n",
    "    def add(cls):\n",
    "        return Calc.x + Calc.y\n",
    "    \n",
    "    @classmethod\n",
    "    def multi(cls):\n",
    "        return Calc.x * Calc.y\n",
    "\n",
    "Calc.x = 3; Calc.y = 2\n",
    "print(Calc.add())\n",
    "print(Calc.multi())\n"
   ]
  },
  {
   "cell_type": "markdown",
   "metadata": {},
   "source": [
    "> private 변수와 getter/setter"
   ]
  },
  {
   "cell_type": "code",
   "execution_count": 119,
   "metadata": {},
   "outputs": [
    {
     "name": "stdout",
     "output_type": "stream",
     "text": [
      "원의 둘레: 62.83185307179586\n",
      "원의 면적: 314.1592653589793\n",
      "원의 둘레: -12.566370614359172\n",
      "원의 면적: 12.566370614359172\n"
     ]
    }
   ],
   "source": [
    "# 원의 둘레와 넓이를 구하는 객체지향 프로그램\n",
    "import math\n",
    "\n",
    "class Circle:\n",
    "    def __init__(self, radius):\n",
    "        self.radius = radius\n",
    "    def get_circumference(self):\n",
    "        return 2 * math.pi * self.radius\n",
    "    def get_area(self):\n",
    "        return math.pi * (self.radius ** 2)\n",
    "\n",
    "circle = Circle(10)\n",
    "print(\"원의 둘레:\", circle.get_circumference())\n",
    "print(\"원의 면적:\", circle.get_area())\n",
    "\n",
    "circle.radius = -2\n",
    "print(\"원의 둘레:\", circle.get_circumference())\n",
    "print(\"원의 면적:\", circle.get_area())\n"
   ]
  },
  {
   "cell_type": "code",
   "execution_count": 176,
   "metadata": {},
   "outputs": [
    {
     "name": "stdout",
     "output_type": "stream",
     "text": [
      "원의 둘레: 62.83185307179586\n",
      "원의 면적: 314.1592653589793\n",
      "원의 둘레: 62.83185307179586\n",
      "원의 면적: 314.1592653589793\n"
     ]
    }
   ],
   "source": [
    "# 원의 둘레와 넓이를 구하는 객체지향 프로그램\n",
    "import math\n",
    "\n",
    "class Circle:\n",
    "    def __init__(self, radius):\n",
    "        # 프라이빗 변수 : 클래스 내부의 변수를 외부에서 사용하는 것을 막고 싶을 때\n",
    "        self.__radius = radius\n",
    "    def get_circumference(self):\n",
    "        return 2 * math.pi * self.__radius\n",
    "    def get_area(self):\n",
    "        return math.pi * (self.__radius ** 2)\n",
    "\n",
    "circle = Circle(10)\n",
    "print(\"원의 둘레:\", circle.get_circumference())\n",
    "print(\"원의 면적:\", circle.get_area())\n",
    "\n",
    "circle.__radius = -2\n",
    "print(\"원의 둘레:\", circle.get_circumference())\n",
    "print(\"원의 면적:\", circle.get_area())"
   ]
  },
  {
   "cell_type": "code",
   "execution_count": 178,
   "metadata": {},
   "outputs": [
    {
     "data": {
      "text/plain": [
       "31415.926535897932"
      ]
     },
     "execution_count": 178,
     "metadata": {},
     "output_type": "execute_result"
    }
   ],
   "source": [
    "import math\n",
    "\n",
    "class Circle:\n",
    "    def __init__(self, radius):\n",
    "        self.__radius = radius\n",
    "    def get_circumference(self):\n",
    "        return 2 * math.pi * self.__radius\n",
    "    def get_area(self):\n",
    "        return math.pi * (self.__radius ** 2)\n",
    "\n",
    "    # getter/setter 선언\n",
    "    def get_radius(self):\n",
    "        return self.__radius\n",
    "\n",
    "    # 변수를 안전하게 조치    \n",
    "    def set_radius(self, value):\n",
    "        if value <= 0:\n",
    "            raise TypeError(\"길이는 양의 숫자여야 합니다.\")\n",
    "        self.__radius = value\n",
    "\n",
    "mycir = Circle(10)\n",
    "# mycir.set_radius(-100)\n",
    "mycir.set_radius(100)\n",
    "mycir.get_area()"
   ]
  },
  {
   "cell_type": "code",
   "execution_count": null,
   "metadata": {},
   "outputs": [],
   "source": [
    "# 데코레이터를 사용한 게터와 세터\n",
    "\n",
    "import math\n",
    "\n",
    "class Circle:\n",
    "    def __init__(self, radius):\n",
    "        self.__radius = radius\n",
    "    def get_circumference(self):\n",
    "        return 2 * math.pi * self.__radius\n",
    "    def get_area(self):\n",
    "        return math.pi * (self.__radius ** 2)\n",
    "\n",
    "    @property\n",
    "    def radius(self):\n",
    "        return self.__radius\n",
    "\n",
    "    @radius.setter\n",
    "    def radius(self, value):\n",
    "        if value <= 0:\n",
    "            raise TypeError(\"길이는 양의 숫자여야 합니다.\")\n",
    "        self.__radius = value"
   ]
  },
  {
   "cell_type": "markdown",
   "metadata": {},
   "source": [
    "> 상속"
   ]
  },
  {
   "cell_type": "code",
   "execution_count": 182,
   "metadata": {},
   "outputs": [
    {
     "name": "stdout",
     "output_type": "stream",
     "text": [
      "Parent 클래스의 __init__()메소드가 호출되었습니다.\n",
      "Child 클래스의 __init__() 메소드가 호출되었습니다.\n",
      "Parent 클래스의 test() 메소드입니다.\n",
      "테스트\n"
     ]
    }
   ],
   "source": [
    "class Parent:\n",
    "    def __init__(self):\n",
    "        self.value = \"테스트\"\n",
    "        print(\"Parent 클래스의 __init__()메소드가 호출되었습니다.\")\n",
    "    def test(self):\n",
    "        print(\"Parent 클래스의 test() 메소드입니다.\")\n",
    "\n",
    "class Child(Parent):\n",
    "    def __init__(self):\n",
    "        Parent.__init__(self)\n",
    "        print(\"Child 클래스의 __init__() 메소드가 호출되었습니다.\")\n",
    "\n",
    "# Parent 클래스의 상속을 받아 함수와 변수를 활용\n",
    "child = Child()\n",
    "child.test()\n",
    "print(child.value)"
   ]
  },
  {
   "cell_type": "markdown",
   "metadata": {},
   "source": [
    "> 예외 클래스 만들기"
   ]
  },
  {
   "cell_type": "code",
   "execution_count": null,
   "metadata": {},
   "outputs": [],
   "source": [
    "class CustomException(Exception):\n",
    "    def __init__(self):\n",
    "        Exception.__init__(self)\n",
    "    \n",
    "    # 오버라이드(재정의)\n",
    "    def __str__(self):\n",
    "        return \"오류가 발생했어요\"\n",
    "    \n",
    "raise CustomException"
   ]
  },
  {
   "cell_type": "code",
   "execution_count": 194,
   "metadata": {},
   "outputs": [
    {
     "name": "stdout",
     "output_type": "stream",
     "text": [
      "###### 오류 정보 ######\n",
      "메시지: 딱히 이유 없음\n",
      "값: 273\n"
     ]
    }
   ],
   "source": [
    "class CustomException(Exception):\n",
    "    def __init__(self, message, value):\n",
    "        Exception.__init__(self)\n",
    "        self.message = message\n",
    "        self.value = value\n",
    "    \n",
    "    # 오버라이드(재정의)\n",
    "    def __str__(self):\n",
    "        return self.message\n",
    "    \n",
    "    def print(self):\n",
    "        print(\"###### 오류 정보 ######\")\n",
    "        print(\"메시지:\", self.message)\n",
    "        print(\"값:\", self.value)\n",
    "\n",
    "try:\n",
    "    raise CustomException(\"딱히 이유 없음\", 273)\n",
    "except CustomException as e:\n",
    "    e.print()"
   ]
  }
 ],
 "metadata": {
  "interpreter": {
   "hash": "4aa7a001941c8b447200068b1d71a3924cf04f02fe096f0aa27a7230a4a7f943"
  },
  "kernelspec": {
   "display_name": "Python 3.10.1 64-bit",
   "language": "python",
   "name": "python3"
  },
  "language_info": {
   "codemirror_mode": {
    "name": "ipython",
    "version": 3
   },
   "file_extension": ".py",
   "mimetype": "text/x-python",
   "name": "python",
   "nbconvert_exporter": "python",
   "pygments_lexer": "ipython3",
   "version": "3.10.1"
  },
  "orig_nbformat": 4
 },
 "nbformat": 4,
 "nbformat_minor": 2
}
