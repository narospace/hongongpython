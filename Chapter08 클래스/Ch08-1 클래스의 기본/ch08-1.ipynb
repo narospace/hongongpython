{
 "cells": [
  {
   "cell_type": "markdown",
   "metadata": {},
   "source": [
    "### 08-1 클래스의 기본\n",
    "---\n",
    "***객체***, ***추상화***, ***인스턴스***, ***생성자***, ***메소드***"
   ]
  },
  {
   "cell_type": "code",
   "execution_count": null,
   "metadata": {},
   "outputs": [],
   "source": [
    "# 객체(object) : 특정한 개념이나 사물로 존재하는 것\n",
    "# 클래스 : 객체를 인스턴스화 하기위해 사용하는 자료형(속성, 메서드로 구성)\n",
    "# 추상화 : 객체를 표현하기 위해 데이터와 기능을 간추려 내는 것 "
   ]
  },
  {
   "cell_type": "markdown",
   "metadata": {},
   "source": [
    "> 생성자( constructor )"
   ]
  },
  {
   "cell_type": "code",
   "execution_count": 16,
   "metadata": {},
   "outputs": [
    {
     "name": "stdout",
     "output_type": "stream",
     "text": [
      "<class 'int'>\n",
      "<class 'list'>\n",
      "<class 'dict'>\n",
      "<class '__main__.Person'>\n"
     ]
    },
    {
     "data": {
      "text/plain": [
       "True"
      ]
     },
     "execution_count": 16,
     "metadata": {},
     "output_type": "execute_result"
    }
   ],
   "source": [
    "a = int(10)\n",
    "print(type(a))\n",
    "\n",
    "b = list(range(10))\n",
    "print(type(b))\n",
    "\n",
    "c = dict(x=10, y=20)\n",
    "print(type(c))\n",
    "\n",
    "class Person:\n",
    "    pass\n",
    "\n",
    "tom = Person()\n",
    "print(type(tom))\n",
    "isinstance(tom, Person)"
   ]
  },
  {
   "cell_type": "code",
   "execution_count": 24,
   "metadata": {},
   "outputs": [
    {
     "name": "stdout",
     "output_type": "stream",
     "text": [
      "<class '__main__.Student'>\n",
      "김철수\n",
      "92\n"
     ]
    }
   ],
   "source": [
    "# 학생 클래스 선언\n",
    "class Student:\n",
    "    def __init__(self, name, korean, math, english, science):\n",
    "        self.name = name\n",
    "        self.korean = korean\n",
    "        self.math = math\n",
    "        self.english = english\n",
    "        self.science = science\n",
    "    \n",
    "# Student 인스턴스 생성\n",
    "st1 = Student(\"김철수\", 87, 98, 88, 95)\n",
    "st2 = Student(\"이영희\", 92, 88, 96, 98)\n",
    "\n",
    "print(type(st1))\n",
    "\n",
    "# Student 인스턴스의 속성에 접근하는 방법\n",
    "print(st1.name)\n",
    "print(st2.korean)"
   ]
  },
  {
   "cell_type": "markdown",
   "metadata": {},
   "source": [
    "> 메소드( method )"
   ]
  },
  {
   "cell_type": "code",
   "execution_count": 73,
   "metadata": {},
   "outputs": [
    {
     "name": "stdout",
     "output_type": "stream",
     "text": [
      "=====================\n",
      "이 름\t총점\t평균\n",
      "=====================\n",
      "김철수\t368\t92.00\n",
      "이영희\t358\t89.50\n",
      "권호균\t363\t90.75\n",
      "임수지\t341\t85.25\n",
      "최재석\t328\t82.00\n",
      "박철우\t367\t91.75\n"
     ]
    }
   ],
   "source": [
    "# 메소드 : 클래스가 가지고 있는 함수\n",
    "\n",
    "class Student:\n",
    "        def __init__(self, name, korean, math, english, science):\n",
    "            # 인스턴스.속성 = 값\n",
    "            self.name = name\n",
    "            self.korean = korean\n",
    "            self.math = math\n",
    "            self.english = english\n",
    "            self.science = science\n",
    "\n",
    "        def get_sum(self):\n",
    "            return self.korean + self.math + self.english + self.science\n",
    "        \n",
    "        def get_average(self):\n",
    "            return self.get_sum() / 4\n",
    "\n",
    "        def to_string(self):\n",
    "            return \"{}\\t{}\\t{:0.2f}\".format(self.name, self.get_sum(), self.get_average())\n",
    "\n",
    "# ====================================================================================\n",
    "\n",
    "students = [\n",
    "    Student(\"김철수\", 87, 98, 88, 95),\n",
    "    Student(\"이영희\", 92, 91, 78, 97),\n",
    "    Student(\"권호균\", 87, 98, 88, 90),\n",
    "    Student(\"임수지\", 76, 98, 80, 87),\n",
    "    Student(\"최재석\", 87, 77, 88, 76),\n",
    "    Student(\"박철우\", 92, 98, 88, 89)\n",
    "]\n",
    "\n",
    "print(\"=\"* 21)\n",
    "print(\"이 름\", \"총점\", \"평균\", sep='\\t')\n",
    "print(\"=\"* 21)\n",
    "for stu in students:\n",
    "    print(stu.to_string())"
   ]
  }
 ],
 "metadata": {
  "interpreter": {
   "hash": "4aa7a001941c8b447200068b1d71a3924cf04f02fe096f0aa27a7230a4a7f943"
  },
  "kernelspec": {
   "display_name": "Python 3.10.1 64-bit",
   "language": "python",
   "name": "python3"
  },
  "language_info": {
   "codemirror_mode": {
    "name": "ipython",
    "version": 3
   },
   "file_extension": ".py",
   "mimetype": "text/x-python",
   "name": "python",
   "nbconvert_exporter": "python",
   "pygments_lexer": "ipython3",
   "version": "3.10.1"
  },
  "orig_nbformat": 4
 },
 "nbformat": 4,
 "nbformat_minor": 2
}
