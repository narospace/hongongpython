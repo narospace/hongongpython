{
 "cells": [
  {
   "cell_type": "markdown",
   "metadata": {},
   "source": [
    "### 06-1 구문 오류와 예외\n",
    "---\n",
    "#### 시작하기 전에   \n",
    "***에러(error)*** 의 발생과 처리"
   ]
  },
  {
   "cell_type": "code",
   "execution_count": null,
   "metadata": {},
   "outputs": [],
   "source": [
    "# 1. 컴파일 에러(syntax error) : 실행 전에 발생하는 오류, 문법오류\n",
    "# 2. 런타임 에러(runtime error) : 실행 중 발생하는 오류, 예외(exception)\n",
    "# 3. 논리, 의미론적 에러(Logic, Semantic Error) : \n",
    "#    결과가 예상과 달라 의도한 작업을 \n",
    "#    수행하지 못함(에러 메시지가 없어 수정 시 어려움)"
   ]
  },
  {
   "cell_type": "markdown",
   "metadata": {},
   "source": [
    "> 구문 오류"
   ]
  },
  {
   "cell_type": "code",
   "execution_count": 2,
   "metadata": {},
   "outputs": [
    {
     "ename": "SyntaxError",
     "evalue": "invalid syntax (Temp/ipykernel_7196/2093660618.py, line 1)",
     "output_type": "error",
     "traceback": [
      "\u001b[1;36m  File \u001b[1;32m\"C:\\Users\\happycom\\AppData\\Local\\Temp/ipykernel_7196/2093660618.py\"\u001b[1;36m, line \u001b[1;32m1\u001b[0m\n\u001b[1;33m    int i = 0\u001b[0m\n\u001b[1;37m        ^\u001b[0m\n\u001b[1;31mSyntaxError\u001b[0m\u001b[1;31m:\u001b[0m invalid syntax\n"
     ]
    }
   ],
   "source": [
    "int i = 0\n",
    "i = 0;\n",
    "if i > 0\n",
    "    print(i)"
   ]
  },
  {
   "cell_type": "markdown",
   "metadata": {},
   "source": [
    "> 예외(exception)"
   ]
  },
  {
   "cell_type": "code",
   "execution_count": 14,
   "metadata": {},
   "outputs": [
    {
     "name": "stdout",
     "output_type": "stream",
     "text": [
      "프로그램이 시작되었습니다.\n"
     ]
    },
    {
     "ename": "ZeroDivisionError",
     "evalue": "float division by zero",
     "output_type": "error",
     "traceback": [
      "\u001b[1;31m---------------------------------------------------------------------------\u001b[0m",
      "\u001b[1;31mZeroDivisionError\u001b[0m                         Traceback (most recent call last)",
      "\u001b[1;32m~\\AppData\\Local\\Temp/ipykernel_7196/296757759.py\u001b[0m in \u001b[0;36m<module>\u001b[1;34m\u001b[0m\n\u001b[0;32m      5\u001b[0m \u001b[1;31m# text[3]   IndexError: string index out of range\u001b[0m\u001b[1;33m\u001b[0m\u001b[1;33m\u001b[0m\u001b[0m\n\u001b[0;32m      6\u001b[0m \u001b[0mi\u001b[0m \u001b[1;33m=\u001b[0m \u001b[1;36m0\u001b[0m\u001b[1;33m\u001b[0m\u001b[1;33m\u001b[0m\u001b[0m\n\u001b[1;32m----> 7\u001b[1;33m \u001b[0mresult\u001b[0m \u001b[1;33m=\u001b[0m \u001b[1;36m3.14\u001b[0m \u001b[1;33m/\u001b[0m \u001b[0mi\u001b[0m \u001b[1;31m# ZeroDivisionError: float division by zero\u001b[0m\u001b[1;33m\u001b[0m\u001b[1;33m\u001b[0m\u001b[0m\n\u001b[0m\u001b[0;32m      8\u001b[0m \u001b[1;33m\u001b[0m\u001b[0m\n\u001b[0;32m      9\u001b[0m \u001b[0mprint\u001b[0m\u001b[1;33m(\u001b[0m\u001b[1;34m\"프로그램이 정상적으로 종료되었습니다.\"\u001b[0m\u001b[1;33m)\u001b[0m\u001b[1;33m\u001b[0m\u001b[1;33m\u001b[0m\u001b[0m\n",
      "\u001b[1;31mZeroDivisionError\u001b[0m: float division by zero"
     ]
    }
   ],
   "source": [
    "print(\"프로그램이 시작되었습니다.\")\n",
    "\n",
    "# 런타임 오류 발생 예\n",
    "text = \"abc\"\n",
    "# text[3]   IndexError: string index out of range\n",
    "i = 0\n",
    "result = 3.14 / i # ZeroDivisionError: float division by zero\n",
    "\n",
    "print(\"프로그램이 정상적으로 종료되었습니다.\")"
   ]
  },
  {
   "cell_type": "markdown",
   "metadata": {},
   "source": [
    "> 기본 예외 처리( exception handling)"
   ]
  },
  {
   "cell_type": "code",
   "execution_count": 19,
   "metadata": {},
   "outputs": [
    {
     "name": "stdout",
     "output_type": "stream",
     "text": [
      "프로그램 시작\n",
      "정수가 아닙니다. 프로그램을 종료합니다.\n",
      "프로그램 정상 종료\n"
     ]
    }
   ],
   "source": [
    "# 조건문으로 예외 처리하기\n",
    "print(\"프로그램 시작\")\n",
    "\n",
    "user_input = input(\"입력한 정수의 제곱근을 구합니다.: \")\n",
    "if user_input.isdigit():\n",
    "    print(f\"{user_input}의 제곱근은 {int(user_input)**(1/2)}입니다.\") # ValueError\n",
    "else:\n",
    "    print(\"정수가 아닙니다. 프로그램을 종료합니다.\")\n",
    "    \n",
    "print(\"프로그램 정상 종료\")"
   ]
  },
  {
   "cell_type": "markdown",
   "metadata": {},
   "source": [
    "> try ~ except"
   ]
  },
  {
   "cell_type": "code",
   "execution_count": 43,
   "metadata": {},
   "outputs": [
    {
     "name": "stdout",
     "output_type": "stream",
     "text": [
      "프로그램이 시작되었습니다.\n",
      "예외가 발생되었습니다. float division by zero\n",
      "프로그램이 정상적으로 종료되었습니다.\n"
     ]
    }
   ],
   "source": [
    "print(\"프로그램이 시작되었습니다.\")\n",
    "\n",
    "i = 0\n",
    "PI = 3.141592\n",
    "try:\n",
    "    # 예외가 발생할 가능성이 있는 코드\n",
    "    result = PI / i     \n",
    "except ZeroDivisionError as e:\n",
    "    # 예외 처리 코드\n",
    "    print(\"예외가 발생되었습니다.\", e)\n",
    "\n",
    "print(\"프로그램이 정상적으로 종료되었습니다.\")"
   ]
  },
  {
   "cell_type": "code",
   "execution_count": 56,
   "metadata": {},
   "outputs": [
    {
     "name": "stdout",
     "output_type": "stream",
     "text": [
      "프로그램이 시작되었습니다.====================\n",
      "['52', '273', '103']\n",
      "프로그램이 종료되었습니다.====================\n"
     ]
    }
   ],
   "source": [
    "print(\"프로그램이 시작되었습니다.====================\")\n",
    "\n",
    "list_text = [\"52\", \"273\", \"A\", \"파이썬\", \"103\"]\n",
    "numbers = []\n",
    "for item in list_text:\n",
    "    try:\n",
    "        float(item)\n",
    "        numbers.append(item)\n",
    "    except Exception as ex:\n",
    "        # print(\"예외가 발생!\", ex.__repr__())\n",
    "        pass # 오류 회피하기 : 특정 오류가 발생할 경우 그냥 통과\n",
    "print(numbers)\n",
    "\n",
    "print(\"프로그램이 종료되었습니다.====================\")"
   ]
  },
  {
   "cell_type": "markdown",
   "metadata": {},
   "source": [
    "> try ~ except ~ except~ ..."
   ]
  },
  {
   "cell_type": "code",
   "execution_count": 32,
   "metadata": {},
   "outputs": [
    {
     "name": "stdout",
     "output_type": "stream",
     "text": [
      "list assignment index out of range: VS :IndexError('list assignment index out of range')\n"
     ]
    }
   ],
   "source": [
    "index = [0, 1, 2]\n",
    "\n",
    "try:\n",
    "    index[3] = 3\n",
    "    result = index[1] / index[0]\n",
    "except ZeroDivisionError as ez: print(str(ez))                       # ez.__str__() \n",
    "except IndexError as ei: print(str(ei) + \": VS :\" + repr(ei))        # ez.__repr__()\n",
    "except Exception as ex: print(type(ex), ex)     # 예외 객체의 자료형과 예외 객체 출력"
   ]
  },
  {
   "cell_type": "markdown",
   "metadata": {},
   "source": [
    "> try ~ except ~ else"
   ]
  },
  {
   "cell_type": "code",
   "execution_count": 57,
   "metadata": {},
   "outputs": [
    {
     "name": "stdout",
     "output_type": "stream",
     "text": [
      "프로그램이 시작되었습니다.====================\n",
      "정수를 입력하지 않았습니다. ValueError(\"invalid literal for int() with base 10: 'a'\")\n",
      "프로그램이 종료되었습니다.====================\n"
     ]
    }
   ],
   "source": [
    "print(\"프로그램이 시작되었습니다.====================\")\n",
    "\n",
    "try:\n",
    "    # 예외 발생할 코드\n",
    "    number_input = int(input(\"정수입력: \"))\n",
    "except Exception as e:\n",
    "    # 예외 처리\n",
    "    print(\"정수를 입력하지 않았습니다.\", e.__repr__())\n",
    "else:\n",
    "    # 실행할 코드\n",
    "    print(number_input * 100)\n",
    "\n",
    "print(\"프로그램이 종료되었습니다.====================\")"
   ]
  },
  {
   "cell_type": "markdown",
   "metadata": {},
   "source": [
    "> finally 구문"
   ]
  },
  {
   "cell_type": "code",
   "execution_count": 60,
   "metadata": {},
   "outputs": [
    {
     "name": "stdout",
     "output_type": "stream",
     "text": [
      "입력 오류입니다. invalid literal for int() with base 10: 'a'\n",
      "프로그램을 종료합니다.\n"
     ]
    }
   ],
   "source": [
    "index = []\n",
    "\n",
    "try:\n",
    "    number_input = int(input(\"Enter integer > \"))\n",
    "except Exception as ex:\n",
    "    print(\"입력 오류입니다.\", ex)\n",
    "else:\n",
    "    print(\"입력값은 %d입니다.\" % number_input)\n",
    "    index.append(number_input)\n",
    "    try:\n",
    "        for i in range(3): print(index[i])\n",
    "    except Exception as e: print(e.__repr__())\n",
    "finally:\n",
    "    # 예외가 발생하던지 않던지 \"무조건\" 실행\n",
    "    print(\"프로그램을 종료합니다.\")"
   ]
  },
  {
   "cell_type": "code",
   "execution_count": 66,
   "metadata": {},
   "outputs": [
    {
     "name": "stdout",
     "output_type": "stream",
     "text": [
      "FileNotFoundError(2, 'No such file or directory')\n",
      "file.closed: True\n"
     ]
    }
   ],
   "source": [
    "file_name = \"basics.txt\"\n",
    "file_path = \"..\\\\..\\\\source\\\\\"\n",
    "\n",
    "try:\n",
    "    # 파일이 없는 경우\n",
    "    # USB 파일을 읽는 중 제거한 경우\n",
    "    # 기타 하드웨어 장치 문제 발생 등\n",
    "    fo = open(file_path + file_name, 'rt', encoding='utf-8')\n",
    "    fo.read()\n",
    "    fo.close()\n",
    "except Exception as e:\n",
    "    print(e.__repr__())\n",
    "\n",
    "print(\"file.closed:\", fo.closed)"
   ]
  },
  {
   "cell_type": "code",
   "execution_count": 67,
   "metadata": {},
   "outputs": [
    {
     "name": "stdout",
     "output_type": "stream",
     "text": [
      "FileNotFoundError(2, 'No such file or directory')\n",
      "file.closed: True\n"
     ]
    }
   ],
   "source": [
    "file_name = \"basics.txt\"\n",
    "file_path = \"..\\\\..\\\\source\\\\\"\n",
    "\n",
    "try:\n",
    "    fo = open(file_path + file_name, 'rt', encoding='utf-8')\n",
    "    fo.read()\n",
    "except Exception as e:\n",
    "    print(e.__repr__())\n",
    "finally:\n",
    "    fo.close()\n",
    "\n",
    "print(\"file.closed:\", fo.closed)"
   ]
  },
  {
   "cell_type": "code",
   "execution_count": 77,
   "metadata": {},
   "outputs": [
    {
     "name": "stdout",
     "output_type": "stream",
     "text": [
      "test()시작\n",
      "1.....\n",
      "finally.....\n"
     ]
    }
   ],
   "source": [
    "# finally 와 return\n",
    "def test():\n",
    "    print(\"test()시작\")\n",
    "    try:\n",
    "        print(\"1.....\")\n",
    "        # print(\"1.....\", var)\n",
    "        return\n",
    "        print(\"2.....\")\n",
    "    except: print(\"except.....\")\n",
    "    else: print(\"else.....\")\n",
    "    finally: print(\"finally.....\")\n",
    "    print(\"test() 끝\")\n",
    "\n",
    "test()"
   ]
  },
  {
   "cell_type": "code",
   "execution_count": 78,
   "metadata": {},
   "outputs": [
    {
     "name": "stdout",
     "output_type": "stream",
     "text": [
      "프로그램 시작.....\n",
      "try 1.....\n",
      "try 2.....\n",
      "finally.....\n",
      "프로그램 종료.....\n"
     ]
    }
   ],
   "source": [
    "# finally 와 break\n",
    "print(\"프로그램 시작.....\")\n",
    "\n",
    "while True:\n",
    "    try:\n",
    "        print(\"try 1.....\")\n",
    "        print(\"try 2.....\")\n",
    "        break\n",
    "        print(\"try 3.....\")\n",
    "    except:\n",
    "        print(\"except.....\")\n",
    "    finally:\n",
    "        print(\"finally.....\")\n",
    "        \n",
    "print(\"프로그램 종료.....\")\n",
    "\n"
   ]
  }
 ],
 "metadata": {
  "interpreter": {
   "hash": "4aa7a001941c8b447200068b1d71a3924cf04f02fe096f0aa27a7230a4a7f943"
  },
  "kernelspec": {
   "display_name": "Python 3.10.1 64-bit",
   "language": "python",
   "name": "python3"
  },
  "language_info": {
   "codemirror_mode": {
    "name": "ipython",
    "version": 3
   },
   "file_extension": ".py",
   "mimetype": "text/x-python",
   "name": "python",
   "nbconvert_exporter": "python",
   "pygments_lexer": "ipython3",
   "version": "3.10.1"
  },
  "orig_nbformat": 4
 },
 "nbformat": 4,
 "nbformat_minor": 2
}
