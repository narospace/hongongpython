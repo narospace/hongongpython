{
 "cells": [
  {
   "cell_type": "markdown",
   "metadata": {},
   "source": [
    "### 06-2 예외 고급\n",
    "---\n",
    "#### 시작하기 전에\n",
    "***예외(exception object)*** 발생하기 "
   ]
  },
  {
   "cell_type": "markdown",
   "metadata": {},
   "source": [
    "> raise 구문"
   ]
  },
  {
   "cell_type": "code",
   "execution_count": 2,
   "metadata": {},
   "outputs": [
    {
     "name": "stdout",
     "output_type": "stream",
     "text": [
      "프로그램 시작======================\n",
      "업무상 0 이 오면 안되요!!!!!\n",
      "프로그램 종료======================\n"
     ]
    }
   ],
   "source": [
    "# 타 언어에서의 예외처리: throw(예외를 던지고..) -> try ~ catch ~ finally(예외를 받아 처리하고...)\n",
    "# 비즈니스 로직을 구현할 때 예외가 예상되어 처리가 필요한 경우 사용\n",
    "\n",
    "class InputZeroError(Exception):\n",
    "    def __init__(self, message):\n",
    "        Exception.__init__(self)\n",
    "        self.message = message\n",
    "    \n",
    "    # 오버라이드(재정의)    \n",
    "    def __str__(self):\n",
    "        return self.message\n",
    "\n",
    "# 업무상 데이터가 음수가 입력되면 안되는 상황...\n",
    "# 업무상 데이터가 0 이 입력되면 안되는 상황...\n",
    "def biz_method(number):\n",
    "    if number > 0:\n",
    "        print(\"유효한 입력입니다.\")\n",
    "    else:\n",
    "        # 0 이 오거나 음수 일때의 처리\n",
    "        raise InputZeroError(\"업무상 0 이 오면 안되요!!!!!\")\n",
    "\n",
    "# 예외 객체의 사용 ----------------------------------------------------------\n",
    "\n",
    "print(\"프로그램 시작======================\")\n",
    "\n",
    "try:\n",
    "# ---------- 비지니스 로직 구현 -------------\n",
    "    data_in = input(\"정수입력: \")\n",
    "    number = int(data_in)\n",
    "    biz_method(number)\n",
    "\n",
    "except ValueError as ev:\n",
    "    print(type(ev), ev)\n",
    "except InputZeroError as ex: \n",
    "    print(str(ex))\n",
    "\n",
    "print(\"프로그램 종료======================\")\n"
   ]
  }
 ],
 "metadata": {
  "interpreter": {
   "hash": "4aa7a001941c8b447200068b1d71a3924cf04f02fe096f0aa27a7230a4a7f943"
  },
  "kernelspec": {
   "display_name": "Python 3.10.1 64-bit",
   "language": "python",
   "name": "python3"
  },
  "language_info": {
   "codemirror_mode": {
    "name": "ipython",
    "version": 3
   },
   "file_extension": ".py",
   "mimetype": "text/x-python",
   "name": "python",
   "nbconvert_exporter": "python",
   "pygments_lexer": "ipython3",
   "version": "3.10.1"
  },
  "orig_nbformat": 4
 },
 "nbformat": 4,
 "nbformat_minor": 2
}
